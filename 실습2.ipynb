{
  "nbformat": 4,
  "nbformat_minor": 0,
  "metadata": {
    "colab": {
      "provenance": []
    },
    "kernelspec": {
      "name": "python3",
      "display_name": "Python 3"
    },
    "language_info": {
      "name": "python"
    }
  },
  "cells": [
    {
      "cell_type": "markdown",
      "source": [
        "# 2024 인공지능 실습 2차시: Bayesian Network\n",
        "\n",
        "2024년 5월 23일 목요일\n"
      ],
      "metadata": {
        "id": "4059bPYN4WNj"
      }
    },
    {
      "cell_type": "markdown",
      "source": [
        "학번/이름: 2022250030 / Gwendelyn Wong Rhien Yhung"
      ],
      "metadata": {
        "id": "o_HIXc5CBBr3"
      }
    },
    {
      "cell_type": "markdown",
      "source": [
        "목차:\n",
        "*  Probability Distribution\n",
        "  *  Joint probability distribution\n",
        "  *  Inference using full joint distributions\n",
        "*  Bayesian Network\n",
        "  *  Inference\n",
        "  *  Inference by Enumeration\n",
        "*  Sampling\n",
        "  *  Prior Sampling\n",
        "  *  Rejection Sampling\n",
        "  *  Likelihood Weighting\n",
        "*  Markov chain\n",
        "  *  Hidden Markov Models\n",
        "* 실습 과제"
      ],
      "metadata": {
        "id": "TH4rFrEqCEHO"
      }
    },
    {
      "cell_type": "code",
      "source": [
        "# 실습 패키지 설치 코드\n",
        "!pip install pomegranate==0.14.9"
      ],
      "metadata": {
        "id": "JLbZT3uuWZgG",
        "colab": {
          "base_uri": "https://localhost:8080/"
        },
        "outputId": "6f5b7662-4e5f-4772-c97a-98a912f69e23"
      },
      "execution_count": null,
      "outputs": [
        {
          "output_type": "stream",
          "name": "stdout",
          "text": [
            "Collecting pomegranate==0.14.9\n",
            "  Downloading pomegranate-0.14.9.tar.gz (4.7 MB)\n",
            "\u001b[?25l     \u001b[90m━━━━━━━━━━━━━━━━━━━━━━━━━━━━━━━━━━━━━━━━\u001b[0m \u001b[32m0.0/4.7 MB\u001b[0m \u001b[31m?\u001b[0m eta \u001b[36m-:--:--\u001b[0m\r\u001b[2K     \u001b[91m━\u001b[0m\u001b[91m╸\u001b[0m\u001b[90m━━━━━━━━━━━━━━━━━━━━━━━━━━━━━━━━━━━━━━\u001b[0m \u001b[32m0.2/4.7 MB\u001b[0m \u001b[31m6.7 MB/s\u001b[0m eta \u001b[36m0:00:01\u001b[0m\r\u001b[2K     \u001b[91m━━━━━━━━━━━━━━━━━━━━━━━\u001b[0m\u001b[91m╸\u001b[0m\u001b[90m━━━━━━━━━━━━━━━━\u001b[0m \u001b[32m2.8/4.7 MB\u001b[0m \u001b[31m40.5 MB/s\u001b[0m eta \u001b[36m0:00:01\u001b[0m\r\u001b[2K     \u001b[91m━━━━━━━━━━━━━━━━━━━━━━━━━━━━━━━━━━━━━━━\u001b[0m\u001b[91m╸\u001b[0m \u001b[32m4.7/4.7 MB\u001b[0m \u001b[31m56.1 MB/s\u001b[0m eta \u001b[36m0:00:01\u001b[0m\r\u001b[2K     \u001b[90m━━━━━━━━━━━━━━━━━━━━━━━━━━━━━━━━━━━━━━━━\u001b[0m \u001b[32m4.7/4.7 MB\u001b[0m \u001b[31m40.0 MB/s\u001b[0m eta \u001b[36m0:00:00\u001b[0m\n",
            "\u001b[?25h  Installing build dependencies ... \u001b[?25l\u001b[?25hdone\n",
            "  Getting requirements to build wheel ... \u001b[?25l\u001b[?25hdone\n",
            "  Preparing metadata (pyproject.toml) ... \u001b[?25l\u001b[?25hdone\n",
            "Collecting cython<3.0.0,>=0.22.1 (from pomegranate==0.14.9)\n",
            "  Using cached Cython-0.29.37-cp310-cp310-manylinux_2_17_x86_64.manylinux2014_x86_64.manylinux_2_24_x86_64.whl (1.9 MB)\n",
            "Requirement already satisfied: numpy>=1.20.0 in /usr/local/lib/python3.10/dist-packages (from pomegranate==0.14.9) (1.25.2)\n",
            "Requirement already satisfied: joblib>=0.9.0b4 in /usr/local/lib/python3.10/dist-packages (from pomegranate==0.14.9) (1.4.2)\n",
            "Requirement already satisfied: networkx>=2.4 in /usr/local/lib/python3.10/dist-packages (from pomegranate==0.14.9) (3.3)\n",
            "Requirement already satisfied: scipy>=0.17.0 in /usr/local/lib/python3.10/dist-packages (from pomegranate==0.14.9) (1.11.4)\n",
            "Requirement already satisfied: pyyaml in /usr/local/lib/python3.10/dist-packages (from pomegranate==0.14.9) (6.0.1)\n",
            "Building wheels for collected packages: pomegranate\n",
            "  Building wheel for pomegranate (pyproject.toml) ... \u001b[?25l\u001b[?25hdone\n",
            "  Created wheel for pomegranate: filename=pomegranate-0.14.9-cp310-cp310-linux_x86_64.whl size=18331502 sha256=6cf3ad21c8c365c9e691a3da992fa77227efce8b240e4c20d10f75c9fbe752e7\n",
            "  Stored in directory: /root/.cache/pip/wheels/14/e7/b2/189a2d351ac4ae073cfa17ce9d56936d59af5712a18028fc31\n",
            "Successfully built pomegranate\n",
            "Installing collected packages: cython, pomegranate\n",
            "  Attempting uninstall: cython\n",
            "    Found existing installation: Cython 3.0.10\n",
            "    Uninstalling Cython-3.0.10:\n",
            "      Successfully uninstalled Cython-3.0.10\n",
            "Successfully installed cython-0.29.37 pomegranate-0.14.9\n"
          ]
        }
      ]
    },
    {
      "cell_type": "code",
      "source": [
        "# import statements\n",
        "from pomegranate import *\n",
        "from collections import Counter, defaultdict\n",
        "import numpy as np"
      ],
      "metadata": {
        "id": "iSvVYds0ezx9"
      },
      "execution_count": null,
      "outputs": []
    },
    {
      "cell_type": "markdown",
      "source": [
        "# Probability Distribution"
      ],
      "metadata": {
        "id": "gQ9QUrXmCUlx"
      }
    },
    {
      "cell_type": "code",
      "source": [
        "class ProbDist:\n",
        "    \"\"\"A discrete probability distribution. You name the random variable\n",
        "    in the constructor, then assign and query probability of values.\n",
        "    \"\"\"\n",
        "\n",
        "    def __init__(self, varname='', freqs=None):\n",
        "        \"\"\"If freqs is given, it is a dictionary of values - frequency pairs,\n",
        "        then ProbDist is normalized.\"\"\"\n",
        "        self.prob = {}\n",
        "        self.varname = varname\n",
        "        self.values = []\n",
        "        if freqs:\n",
        "            for (v, p) in freqs.items():\n",
        "                self[v] = p\n",
        "            self.normalize()\n",
        "\n",
        "    def __getitem__(self, val):\n",
        "        \"\"\"Given a value, return P(value).\"\"\"\n",
        "        try:\n",
        "            return self.prob[val]\n",
        "        except KeyError:\n",
        "            return 0\n",
        "\n",
        "    def __setitem__(self, val, p):\n",
        "        \"\"\"Set P(val) = p.\"\"\"\n",
        "        if val not in self.values:\n",
        "            self.values.append(val)\n",
        "        self.prob[val] = p\n",
        "\n",
        "    def normalize(self):\n",
        "        \"\"\"Make sure the probabilities of all values sum to 1.\n",
        "        Returns the normalized distribution.\n",
        "        Raises a ZeroDivisionError if the sum of the values is 0.\"\"\"\n",
        "        total = sum(self.prob.values())\n",
        "        if not np.isclose(total, 1.0):\n",
        "            for val in self.prob:\n",
        "                self.prob[val] /= total\n",
        "        return self\n",
        "\n",
        "    def show_approx(self, numfmt='{:.3g}'):\n",
        "        \"\"\"Show the probabilities rounded and sorted by key, for the\n",
        "        sake of portable doctests.\"\"\"\n",
        "        return ', '.join([('{}: ' + numfmt).format(v, p)\n",
        "                          for (v, p) in sorted(self.prob.items())])\n",
        "\n",
        "    def __repr__(self):\n",
        "        return \"P({})\".format(self.varname)"
      ],
      "metadata": {
        "id": "MpgYS9c0CW7h"
      },
      "execution_count": null,
      "outputs": []
    },
    {
      "cell_type": "markdown",
      "source": [
        "`ProbDist` class: discrete probability distributions을 정의\n",
        "*  `__init__`: `ProbDist` 클래스의 생성자\n",
        "  *  `varname`: 확률 변수의 이름을 나타내는 문자열\n",
        "  *  `freqs`: 값-빈도 쌍의 딕셔너리\n",
        "*  `__getitem__`: python class 기본 내장 getter method. 클래스 객체의 특정 키에 대한 값을 가져올 때 호출됨.\n",
        "*  `__setitem__`: setter method. 클래스객 체의 특정 키에 대해 값을 설정할 때 호출됨.\n",
        "*  `normalize`: 모든 값의 확률이 1이 되도록 정규화\n",
        "*  `show_approx`: 키를 기준으로 정렬된 확률 값을 반올림하여 문자열 형식으로 표시\n",
        "*  `__repr__`: 객체의 문자열 표현을 반환"
      ],
      "metadata": {
        "id": "gIMCICQwgwzr"
      }
    },
    {
      "cell_type": "markdown",
      "source": [
        "$Flip = <H, T>$\n",
        "\n",
        "$P(H) = 0.25$\n",
        "\n",
        "$P(T) = 0.75$"
      ],
      "metadata": {
        "id": "pW15BPvKEROs"
      }
    },
    {
      "cell_type": "code",
      "source": [
        "# 딕셔너리와 비슷하게 확률 변수와 확률 값을 지정\n",
        "# given probability\n",
        "p = ProbDist('Flip')\n",
        "p['H'] = 0.25\n",
        "p['T'] = 0.75\n",
        "p['T']"
      ],
      "metadata": {
        "id": "65UjRmExOUfx",
        "colab": {
          "base_uri": "https://localhost:8080/"
        },
        "outputId": "8dde1544-4a8c-40ac-8c47-e5abec3f46f9"
      },
      "execution_count": null,
      "outputs": [
        {
          "output_type": "execute_result",
          "data": {
            "text/plain": [
              "0.75"
            ]
          },
          "metadata": {},
          "execution_count": 6
        }
      ]
    },
    {
      "cell_type": "markdown",
      "source": [
        "$Scale = <low, medium, high>$\n",
        "\n",
        "$Count(low) = 125$\n",
        "\n",
        "$Count(medium) = 375$\n",
        "\n",
        "$Count(high) = 500$"
      ],
      "metadata": {
        "id": "RqB3FLXZEelk"
      }
    },
    {
      "cell_type": "code",
      "source": [
        "# 생성자의 freqs 파라미터에 딕셔너리를 입력하여 생성\n",
        "# given freq\n",
        "p = ProbDist('Scale', freqs={'low':125, 'medium':375, 'high':500})\n"
      ],
      "metadata": {
        "id": "W3Tqmq49OhO4"
      },
      "execution_count": null,
      "outputs": []
    },
    {
      "cell_type": "code",
      "source": [
        "# normalize 메소드가 적용되어 합이 1이 되도록 확률값이 정규화됨\n",
        "(p['low'], p['medium'], p['high'])"
      ],
      "metadata": {
        "id": "MkxfJD7-Ohbp",
        "colab": {
          "base_uri": "https://localhost:8080/"
        },
        "outputId": "0bcec3b0-fa27-4a25-b72a-6ec9cdc9f6b5"
      },
      "execution_count": null,
      "outputs": [
        {
          "output_type": "execute_result",
          "data": {
            "text/plain": [
              "(0.125, 0.375, 0.5)"
            ]
          },
          "metadata": {},
          "execution_count": 8
        }
      ]
    },
    {
      "cell_type": "code",
      "source": [
        "# 변수명 출력\n",
        "p.varname"
      ],
      "metadata": {
        "id": "Z3wnDnmmHJFJ",
        "colab": {
          "base_uri": "https://localhost:8080/",
          "height": 36
        },
        "outputId": "c48e964b-97bc-48f2-8867-b011f6a49236"
      },
      "execution_count": null,
      "outputs": [
        {
          "output_type": "execute_result",
          "data": {
            "text/plain": [
              "'Scale'"
            ],
            "application/vnd.google.colaboratory.intrinsic+json": {
              "type": "string"
            }
          },
          "metadata": {},
          "execution_count": 9
        }
      ]
    },
    {
      "cell_type": "code",
      "source": [
        "# 확률 변수의 목록 접근\n",
        "p.values"
      ],
      "metadata": {
        "id": "PNNOjfjJOqfw",
        "colab": {
          "base_uri": "https://localhost:8080/"
        },
        "outputId": "96fba841-1765-427b-ba22-91b890b704f6"
      },
      "execution_count": null,
      "outputs": [
        {
          "output_type": "execute_result",
          "data": {
            "text/plain": [
              "['low', 'medium', 'high']"
            ]
          },
          "metadata": {},
          "execution_count": 10
        }
      ]
    },
    {
      "cell_type": "markdown",
      "source": [
        "$Animal = <Cat, Dog, Mice>$\n",
        "\n",
        "$Count(Cat) = 50$\n",
        "\n",
        "$Count(Dog) = 114$\n",
        "\n",
        "$Count(Mice) = 64$"
      ],
      "metadata": {
        "id": "a6poSOVDIf4l"
      }
    },
    {
      "cell_type": "code",
      "source": [
        "# 확률 변수와 값이 점진적으로 추가되면 정규화가 적용되지 않음\n",
        "p = ProbDist('Animal')\n",
        "p['Cat'] = 50\n",
        "p['Dog'] = 114\n",
        "p['Mice'] = 64\n",
        "(p['Cat'], p['Dog'], p['Mice'])"
      ],
      "metadata": {
        "id": "V73H-VXBOuxY",
        "colab": {
          "base_uri": "https://localhost:8080/"
        },
        "outputId": "3dda2dcf-66ba-4602-be63-45a0747d8329"
      },
      "execution_count": null,
      "outputs": [
        {
          "output_type": "execute_result",
          "data": {
            "text/plain": [
              "(50, 114, 64)"
            ]
          },
          "metadata": {},
          "execution_count": 11
        }
      ]
    },
    {
      "cell_type": "code",
      "source": [
        "# 정규화 메소드을 호출하여 정규화를 강제\n",
        "p.normalize()\n",
        "(p['Cat'], p['Dog'], p['Mice'])"
      ],
      "metadata": {
        "id": "ncuLsgKHOwAL",
        "colab": {
          "base_uri": "https://localhost:8080/"
        },
        "outputId": "52b8a57e-e45b-4e42-c0d5-64c3b236ca75"
      },
      "execution_count": null,
      "outputs": [
        {
          "output_type": "execute_result",
          "data": {
            "text/plain": [
              "(0.21929824561403508, 0.5, 0.2807017543859649)"
            ]
          },
          "metadata": {},
          "execution_count": 12
        }
      ]
    },
    {
      "cell_type": "code",
      "source": [
        "# 소수점까지의 근사치를 표시\n",
        "p.show_approx()"
      ],
      "metadata": {
        "id": "8x8VPchiOxMr",
        "colab": {
          "base_uri": "https://localhost:8080/",
          "height": 36
        },
        "outputId": "f8115a73-e154-4cfc-bf78-abd77b8805ca"
      },
      "execution_count": null,
      "outputs": [
        {
          "output_type": "execute_result",
          "data": {
            "text/plain": [
              "'Cat: 0.219, Dog: 0.5, Mice: 0.281'"
            ],
            "application/vnd.google.colaboratory.intrinsic+json": {
              "type": "string"
            }
          },
          "metadata": {},
          "execution_count": 13
        }
      ]
    },
    {
      "cell_type": "markdown",
      "source": [
        "## Joint Probability Distribution"
      ],
      "metadata": {
        "id": "uAqJPeaDO3NK"
      }
    },
    {
      "cell_type": "code",
      "source": [
        "class JointProbDist(ProbDist):\n",
        "    \"\"\"A discrete probability distribute over a set of variables.\"\"\"\n",
        "\n",
        "    def __init__(self, variables):\n",
        "        self.prob = {}\n",
        "        self.variables = variables\n",
        "        self.vals = defaultdict(list)\n",
        "\n",
        "    def __getitem__(self, values):\n",
        "        \"\"\"Given a tuple or dict of values, return P(values).\"\"\"\n",
        "        values = event_values(values, self.variables)\n",
        "        return ProbDist.__getitem__(self, values)\n",
        "\n",
        "    def __setitem__(self, values, p):\n",
        "        \"\"\"Set P(values) = p.  Values can be a tuple or a dict; it must\n",
        "        have a value for each of the variables in the joint. Also keep track\n",
        "        of the values we have seen so far for each variable.\"\"\"\n",
        "        values = event_values(values, self.variables)\n",
        "        self.prob[values] = p\n",
        "        for var, val in zip(self.variables, values):\n",
        "            if val not in self.vals[var]:\n",
        "                self.vals[var].append(val)\n",
        "\n",
        "    def values(self, var):\n",
        "        \"\"\"Return the set of possible values for a variable.\"\"\"\n",
        "        return self.vals[var]\n",
        "\n",
        "    def __repr__(self):\n",
        "        return \"P({})\".format(self.variables)\n",
        "\n",
        "def event_values(event, variables):\n",
        "    \"\"\"Return a tuple of the values of variables in event.\n",
        "    \"\"\"\n",
        "    if isinstance(event, tuple) and len(event) == len(variables):\n",
        "        return event\n",
        "    else:\n",
        "        return tuple([event[var] for var in variables])"
      ],
      "metadata": {
        "id": "rWuyiugUO-ou"
      },
      "execution_count": null,
      "outputs": []
    },
    {
      "cell_type": "markdown",
      "source": [
        "`JointProbDist` class: 여러 변수에 대한 discrete probability distribution를 나타내는 클래스. ProbDist 클래스를 상속받음.\n",
        "*  `__init__`: `JointProbDist` 클래스의 생성자\n",
        "  *  `variables`: 확률 분포가 정의된 변수들의 리스트\n",
        "*  `__getitem__`: 주어진 값들의 튜플이나 딕셔너리에 대해 결합 확률 P(values)를 반환\n",
        "*  `__setitem__`: 주어진 값들의 튜플이나 딕셔너리에 대해 결합 확률 P(values)를 설정\n",
        "*  `values`: 특정 변수에 대한 가능한 값들의 집합을 반환\n",
        "*  `__repr__`: 객체의 문자열 표현을 반환\n",
        "*  `event_values`: 주어진 이벤트(`event`)에서 특정 변수들(`variables`)의 값을 추출하여 튜플로 반환"
      ],
      "metadata": {
        "id": "doZdshAOnAfQ"
      }
    },
    {
      "cell_type": "markdown",
      "source": [
        "$X = <0, 1>$\n",
        "\n",
        "$Y = <1>$\n",
        "\n",
        "$P(X=0, Y=1)=0.5$\n",
        "\n",
        "$P(X=1, Y=1)=0.2$"
      ],
      "metadata": {
        "id": "i_02zjj8IZxg"
      }
    },
    {
      "cell_type": "code",
      "source": [
        "# Joint distribution를 지정하려면 먼저 변수의 순서가 지정된 list가 필요\n",
        "variables = ['X', 'Y']\n",
        "j = JointProbDist(variables)\n",
        "j"
      ],
      "metadata": {
        "id": "5_6wrzhiPA9Z",
        "colab": {
          "base_uri": "https://localhost:8080/"
        },
        "outputId": "939621d1-6e47-422f-d3b8-6d9702e6af17"
      },
      "execution_count": null,
      "outputs": [
        {
          "output_type": "execute_result",
          "data": {
            "text/plain": [
              "P(['X', 'Y'])"
            ]
          },
          "metadata": {},
          "execution_count": 15
        }
      ]
    },
    {
      "cell_type": "code",
      "source": [
        "# 아래와 같은 방법으로 분포의 모든 가능한 값에 대해 확률을 할당\n",
        "j[dict(X=0, Y=1)] = 0.5\n",
        "j[1,1] = 0.2 # X = 1 & Y = 1\n",
        "\n",
        "(j[0,1], j[1,1])"
      ],
      "metadata": {
        "id": "Cy-QHWuXPIBy",
        "colab": {
          "base_uri": "https://localhost:8080/"
        },
        "outputId": "9d01094e-3b92-45bc-9f16-bade52f1e81d"
      },
      "execution_count": null,
      "outputs": [
        {
          "output_type": "execute_result",
          "data": {
            "text/plain": [
              "(0.5, 0.2)"
            ]
          },
          "metadata": {},
          "execution_count": 16
        }
      ]
    },
    {
      "cell_type": "code",
      "source": [
        "# values 메서드를 통해 특정 변수의 값을 출력\n",
        "j.values('X')\n"
      ],
      "metadata": {
        "id": "vuyGZ1miPJKY",
        "colab": {
          "base_uri": "https://localhost:8080/"
        },
        "outputId": "7a8a9db2-1d4c-4d18-8e44-fd618faf20fd"
      },
      "execution_count": null,
      "outputs": [
        {
          "output_type": "execute_result",
          "data": {
            "text/plain": [
              "[0, 1]"
            ]
          },
          "metadata": {},
          "execution_count": 17
        }
      ]
    },
    {
      "cell_type": "code",
      "source": [
        "# Y 변수값 출력\n",
        "j.values('Y')"
      ],
      "metadata": {
        "id": "69EGF4V6oqAQ",
        "colab": {
          "base_uri": "https://localhost:8080/"
        },
        "outputId": "c0c2441c-1e58-4204-952e-9e00cb3f8712"
      },
      "execution_count": null,
      "outputs": [
        {
          "output_type": "execute_result",
          "data": {
            "text/plain": [
              "[1]"
            ]
          },
          "metadata": {},
          "execution_count": 18
        }
      ]
    },
    {
      "cell_type": "markdown",
      "source": [
        "## Inference Using Full Joint Distributions\n",
        "\n",
        "*  Full joint distribution을 사용하여 일부 evidence가 주어진 후의 posterior distribution을 계산\n",
        "*  Evidence은 딕셔너리로 표현하며, 변수를 딕셔너리의 키로, 값을 딕셔너리의 값으로 표현\n",
        "*  아래 식을 `enumerate_joint`와 `enumerate_joint_ask`으로 구현\n",
        "\n",
        "<img src=\"https://cs50.harvard.edu/ai/2024/notes/2/inferencebyenumeration.png\" width=\"600\"/>\n",
        "\n",
        ": 관찰된 evidence $e$와 일부 hidden variable $Y$가 주어졌을 때 쿼리 $X$의 확률 분포를 찾는 프로세스\n",
        "\n",
        "  *  $\\alpha$: 정규화 계수\n",
        "  *  $X$: 쿼리\n",
        "  *  $\\textbf{e}$: evidence\n",
        "  *  $\\textbf{y}$: 쿼리나 evidence에 포함되지 않은 나머지 변수들"
      ],
      "metadata": {
        "id": "DrIxDJCQPMM6"
      }
    },
    {
      "cell_type": "markdown",
      "source": [
        "<img src=\"https://wikidocs.net/images/page/189106/Fig_12_03.PNG\" width=\"600\"/>"
      ],
      "metadata": {
        "id": "QKpdVHoSPjzP"
      }
    },
    {
      "cell_type": "markdown",
      "source": [
        "*  marginal probabilities:\n",
        "\n",
        "capital C is both probs of cavity and not (distribution);\n",
        "small c is only true;\n",
        "comma is intercept\n",
        "\n",
        "$$\n",
        "\\begin{aligned}\n",
        "P(Cavity) &= P(Cavity,toothache,catch)+P(Cavity,toothache,¬catch)\n",
        "+ P(Cavity,¬toothache,catch)+P(Cavity,¬toothache,¬catch) \\\\\n",
        "&= ⟨0.108,0.016⟩+⟨0.012,0.064⟩+⟨0.072,0.144⟩+⟨0.008,0.576⟩ \\\\\n",
        "&= ⟨0.2,0.8⟩\n",
        "\\end{aligned}\n",
        "$$\n",
        "\n",
        "*  conditional probabilities:\n",
        "\n",
        "$$P(a|b) = \\frac{P(a∧b)}{P(b)}$$\n",
        "\n",
        "*  $P(Cavity|toothache)$:\n",
        "\n",
        "$$\n",
        "\\begin{aligned}\n",
        "P(cavity|toothache) &= \\frac{P(cavity∧toothache)}{P(toothache)} \\\\\n",
        "&= \\frac{0.108 + 0.012}{0.108 + 0.012 + 0.016 + 0.064}  \\\\\n",
        "&= 0.6\n",
        "\\end{aligned}\n",
        "$$\n",
        "\n",
        "$$\n",
        "\\begin{aligned}\n",
        "P(¬cavity|toothache) &= \\frac{P(¬cavity∧toothache)}{P(toothache)} \\\\\n",
        "&= \\frac{0.016 + 0.064}{0.108 + 0.012 + 0.016 + 0.064}  \\\\\n",
        "&= 0.4\n",
        "\\end{aligned}\n",
        "$$\n",
        "\n",
        "따라서,\n",
        "\n",
        "$$\n",
        "\\begin{aligned}\n",
        "P(Cavity | toothache) &= α P(Cavity, toothache) \\\\\n",
        "&= α[P(Cavity,toothache,catch)+P(Cavity,toothache,¬catch)] \\\\\n",
        "&= α[⟨0.108,0.016⟩+⟨0.012,0.064⟩] \\\\\n",
        "&= α⟨0.12,0.08⟩ \\\\\n",
        "&=⟨0.6,0.4⟩.\n",
        "\\end{aligned}\n",
        "$$"
      ],
      "metadata": {
        "id": "CGV6ewamymrO"
      }
    },
    {
      "cell_type": "code",
      "source": [
        "full_joint = JointProbDist(['Cavity', 'Toothache', 'Catch'])\n",
        "full_joint[dict(Cavity=True, Toothache=True, Catch=True)] = 0.108\n",
        "full_joint[dict(Cavity=True, Toothache=True, Catch=False)] = 0.012\n",
        "full_joint[dict(Cavity=True, Toothache=False, Catch=True)] = 0.016\n",
        "full_joint[dict(Cavity=True, Toothache=False, Catch=False)] = 0.064\n",
        "full_joint[dict(Cavity=False, Toothache=True, Catch=True)] = 0.072\n",
        "full_joint[dict(Cavity=False, Toothache=False, Catch=True)] = 0.144\n",
        "full_joint[dict(Cavity=False, Toothache=True, Catch=False)] = 0.008\n",
        "full_joint[dict(Cavity=False, Toothache=False, Catch=False)] = 0.576"
      ],
      "metadata": {
        "id": "JqPF7FeNPNsY"
      },
      "execution_count": null,
      "outputs": []
    },
    {
      "cell_type": "code",
      "source": [
        "def enumerate_joint(variables, e, P):\n",
        "    \"\"\"Return the sum of those entries in P consistent with e,\n",
        "    provided variables is P's remaining variables (the ones not in e).\"\"\"\n",
        "    if not variables:\n",
        "        return P[e]\n",
        "    Y, rest = variables[0], variables[1:]\n",
        "    return sum([enumerate_joint(rest, extend(e, Y, y), P)\n",
        "                for y in P.values(Y)]) # recursion\n",
        "\n",
        "def extend(s, var, val):\n",
        "    \"\"\"Copy dict s and extend it by setting var to val; return copy.\"\"\"\n",
        "    return {**s, var: val}"
      ],
      "metadata": {
        "id": "k3lOIgFjREF8"
      },
      "execution_count": null,
      "outputs": []
    },
    {
      "cell_type": "markdown",
      "source": [
        "*  `enumerate_joint`: 주어진 변수들의 리스트와 evidence에 대해, joint probability distribution P에서 evidence와 일치하는 항목들의 합을 반환\n",
        "  *  `variables`: 증거에 포함되지 않은 나머지 변수들의 리스트\n",
        "  *  `e`: 딕셔너리 구조로 표현된 evidence\n",
        "  *  `P`: `JointProbDist` 객체\n",
        "* `extend`: 딕셔너리 `s`를 복사하면서, 새로운 항목 `{var: val}`을 추가하여 반환. `s`의 원본 상태를 변경하지 않고 확장된 딕셔너리를 생성"
      ],
      "metadata": {
        "id": "gEqemJSrrbIh"
      }
    },
    {
      "cell_type": "markdown",
      "source": [
        "예제) $P(Toothache=True)$ ($P(toothache)$)\n"
      ],
      "metadata": {
        "id": "giCAzo8rRFpb"
      }
    },
    {
      "cell_type": "code",
      "source": [
        "# marginal probability\n",
        "evidence = dict(Toothache=True)\n",
        "variables = ['Cavity', 'Catch']\n",
        "ans1 = enumerate_joint(variables, evidence, full_joint)\n",
        "ans1"
      ],
      "metadata": {
        "id": "xaIGeKXjRInn",
        "colab": {
          "base_uri": "https://localhost:8080/"
        },
        "outputId": "d31a2027-062d-4f34-e8d3-b1be39dbd650"
      },
      "execution_count": null,
      "outputs": [
        {
          "output_type": "execute_result",
          "data": {
            "text/plain": [
              "0.19999999999999998"
            ]
          },
          "metadata": {},
          "execution_count": 21
        }
      ]
    },
    {
      "cell_type": "markdown",
      "source": [
        "예제) $P(Cavity=True \t\\ and \\ Toothache=True)$"
      ],
      "metadata": {
        "id": "_6YP8UkVRJxu"
      }
    },
    {
      "cell_type": "code",
      "source": [
        "evidence = dict(Toothache=True, Cavity=True)\n",
        "variables = ['Catch']\n",
        "ans2 = enumerate_joint(variables, evidence, full_joint)\n",
        "ans2"
      ],
      "metadata": {
        "id": "c22g0ZpVRMRr",
        "colab": {
          "base_uri": "https://localhost:8080/"
        },
        "outputId": "b3663702-7598-4c77-cba1-a1bda1b3c901"
      },
      "execution_count": null,
      "outputs": [
        {
          "output_type": "execute_result",
          "data": {
            "text/plain": [
              "0.12"
            ]
          },
          "metadata": {},
          "execution_count": 22
        }
      ]
    },
    {
      "cell_type": "markdown",
      "source": [
        "예제) $P(Cavity=True | Toothache = True) = \\frac{P(Cavity=True \\ and \\ Toothache=True)}{P(Toothache=True)}$"
      ],
      "metadata": {
        "id": "KwoDcDoIRNpF"
      }
    },
    {
      "cell_type": "code",
      "source": [
        "ans2/ans1"
      ],
      "metadata": {
        "id": "FHv1FZApRX7m",
        "colab": {
          "base_uri": "https://localhost:8080/"
        },
        "outputId": "fa83f30c-8316-4752-bff9-7523e2413caa"
      },
      "execution_count": null,
      "outputs": [
        {
          "output_type": "execute_result",
          "data": {
            "text/plain": [
              "0.6"
            ]
          },
          "metadata": {},
          "execution_count": 23
        }
      ]
    },
    {
      "cell_type": "code",
      "source": [
        "def enumerate_joint_ask(X, e, P):\n",
        "    \"\"\"Return a probability distribution over the values of the variable X,\n",
        "    given the {var:val} observations e, in the JointProbDist P.\n",
        "    \"\"\"\n",
        "    assert X not in e, \"Query variable must be distinct from evidence\"\n",
        "    Q = ProbDist(X)  # probability distribution for X, initially empty\n",
        "    Y = [v for v in P.variables if v != X and v not in e]  # hidden variables.\n",
        "    for xi in P.values(X):\n",
        "        Q[xi] = enumerate_joint(Y, extend(e, X, xi), P)\n",
        "    return Q.normalize()"
      ],
      "metadata": {
        "id": "OAX5JpHORbDZ"
      },
      "execution_count": null,
      "outputs": []
    },
    {
      "cell_type": "markdown",
      "source": [
        "*  `enumerate_joint_ask`: 주어진 evidence `e`에 대해 쿼리 `X`의 값들에 대한 확률 분포를 반환. Full joint probability distribution `P`를 사용하여 계산\n",
        "  *  `X`: 쿼리\n",
        "  *  `e`: 딕셔너리 구조로 표현된 evidence\n",
        "  *  `P`: `JointProbDist` 객체"
      ],
      "metadata": {
        "id": "yrViS5T1wPTE"
      }
    },
    {
      "cell_type": "markdown",
      "source": [
        "예제) $P(Cavity | Toothache=True)$\n"
      ],
      "metadata": {
        "id": "Ig4Fe016Rc7t"
      }
    },
    {
      "cell_type": "code",
      "source": [
        "query_variable = 'Cavity'\n",
        "evidence = dict(Toothache=True)\n",
        "ans = enumerate_joint_ask(query_variable, evidence, full_joint)\n",
        "(ans[True], ans[False])"
      ],
      "metadata": {
        "id": "qkbb1KU2Rf74",
        "colab": {
          "base_uri": "https://localhost:8080/"
        },
        "outputId": "f233865f-6b6e-4471-d689-bd911cd57f6e"
      },
      "execution_count": null,
      "outputs": [
        {
          "output_type": "execute_result",
          "data": {
            "text/plain": [
              "(0.6, 0.39999999999999997)"
            ]
          },
          "metadata": {},
          "execution_count": 25
        }
      ]
    },
    {
      "cell_type": "markdown",
      "source": [
        "# Bayesian Network"
      ],
      "metadata": {
        "id": "538Pd4_fZpQi"
      }
    },
    {
      "cell_type": "markdown",
      "source": [
        "*   베이지안 네트워크: 변수들 간의 **independence**와 conditional independence relationship을 포함한 full joint probability distribution의 표현하는 구조\n",
        "\n",
        "*   베이지안 네트워크의 속성:\n",
        "  *   방향성 그래프\n",
        "  *   그래프의 각 노드는 랜덤 변수를 나타냄\n",
        "  *   $X$에서 $Y$로 향하는 화살표는 $X$가 $Y$의 부모임을 나타냄. $Y$의 확률 분포는 $X$의 값에 따라 달라짐.\n",
        "  *   각 노드 X는 확률 분포 $P(X|Parents(X))$을 가짐."
      ],
      "metadata": {
        "id": "1zBQiaEQ8G_G"
      }
    },
    {
      "cell_type": "markdown",
      "source": [
        "### Bayesian Network의 변수 간 independence 표현\n",
        "\n",
        "<img src=\"https://encrypted-tbn0.gstatic.com/images?q=tbn:ANd9GcSa6Ed8rgFFOZCpVzvcF7oYXHnxSorWffnCZfr9Jhxmtw&s\" width=\"400\"/>\n",
        "\n"
      ],
      "metadata": {
        "id": "5rFFhYg7SQzu"
      }
    },
    {
      "cell_type": "markdown",
      "source": [
        "*  베이지안 네트워크의 topology(위상 구조)은 conditional independence relationship을 지정\n",
        "  *  화살표의 의미: X가 Y에게 직접적인 영향을 미침\n",
        "*  위 베이지안 네트워크에서 independence 관계:\n",
        "  *  Weather은 다른 변수들과 독립적이다. (Weather is independent of the other variables.)\n",
        "  *  Cavity가 주어졌을 때, Toothache와 Catch은 조건부 독립적이다. (Toothache and Catch are conditionally independent, given Cavity.)\n",
        "*  여기서 conditional independence은 Toothache와 Catch 사이 **edge가 존재하지 않음**으로써 표현됨.\n",
        "*  왜 independence 관계가 중요한가?\n",
        "  *  두 이벤트가 서로에 영향을 미치지 않는다고 가정함으로써 계산을 단순화\n",
        "  * Weather = {sun,rain,cloud,snow}이 다른 변수들과 independent하지 않을 때:\n",
        "    * full joint distribution table의 디멘션: 2 * 2 * 2 * 4 = 32개의 row\n",
        "  * Weather이 다른 변수들과 independent할 때:\n",
        "    * full joint distribution table의 디멘션: Weather 변수 4개의 row, 나머지 변수 8개의 row"
      ],
      "metadata": {
        "id": "DE7avPX0X7MP"
      }
    },
    {
      "cell_type": "markdown",
      "source": [
        "예제)\n",
        "\n",
        "낚시를 하지 않는 사람이 있다. 이 사람은 호수에서 낚시를 하기에 좋은 날($F$)이 무엇인지 알고 싶어한다. 그러나 이 사람은 물고기를 한마리도 잡지 못했음에도 불구하고 좋은 날이 될 수 있다는 현상을 이해하지 못한다. 이 현상을 이해하기 위하여 세 가지 변수를 가진 베이지안 모델을 만들기로 한다. 베이지안 네트워크의 세 가지 변수는 비가 내렸는지($R$), 잡은 물고기의 양($C$), 바람이 불었는지($W$) 이다.\n",
        "\n",
        "W,C,R should point to F\n",
        "not actually conditionally independent, rain would affect wind and vice versa"
      ],
      "metadata": {
        "id": "fM4IOAgebngZ"
      }
    },
    {
      "cell_type": "markdown",
      "source": [
        "![Screen Shot 2024-05-20 at 12.35.32 AM.png](data:image/png;base64,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)"
      ],
      "metadata": {
        "id": "qXU-zgwQfnqK"
      }
    },
    {
      "cell_type": "markdown",
      "source": [
        "*  $F = <true, false>$\n",
        "*  $R = <true, false>$\n",
        "*  $C = <none, some, lots>$\n",
        "*  $W = <true, false>$"
      ],
      "metadata": {
        "id": "-a3xXVeVf10e"
      }
    },
    {
      "cell_type": "markdown",
      "source": [
        "## Bayesian Network example"
      ],
      "metadata": {
        "id": "y96QUa80RtvO"
      }
    },
    {
      "cell_type": "markdown",
      "source": [
        "<img src=\"https://cs50.harvard.edu/ai/2024/notes/2/bayesiannetwork.png\" width=\"600\"/>"
      ],
      "metadata": {
        "id": "pLhU10qP6gZH"
      }
    },
    {
      "cell_type": "markdown",
      "source": [
        "*  Rain: 네트워크의 루트 노드\n",
        "  *  확률 분포가 이전 사건에 의존하지 않음을 의미\n",
        "  *  Rain은 다음 확률 분포를 사용하여 { none, light, heavy } 값을 취할 수 있는 무작위 변수\n",
        "\n",
        "<div align=\"center\">\n",
        "\n",
        "| none | light | heavy |\n",
        "| --- | --- | ---|\n",
        "| 0.7  | 0.2 | 0.1 |\n",
        "\n",
        "</div>\n",
        "\n",
        "*  Maintenance: { yes, no } 값을 사용하여 열차 선로 유지 관리가 있는지 여부를 인코딩\n",
        "  *  Rain은 Maintenance의 상위 노드이며 이는 Maintenance의 확률 분포가 Rain의 영향을 받음을 의미\n",
        "\n",
        "<div align=\"center\">\n",
        "\n",
        "| Rain | yes | no|\n",
        "| -- | -- | -- |\n",
        "| none | 0.4 | 0.6 |\n",
        "| light | 0.2 | 0.8 |\n",
        "| heavy | 0.1 | 0.9 |\n",
        "\n",
        "</div>\n",
        "\n",
        "*  Train: 열차가 정시에 도착하는지 지연되는지 여부를 인코딩하는 변수로, { on time, delayed } 값을 사용\n",
        "  *  Maintenance와 Rain의 값이 Train의 확률 분포에 영향을 미침\n",
        "\n",
        "<div align=\"center\">\n",
        "\n",
        "| Rain | Maintenance | on time | delayed |\n",
        "| -- | -- | -- | -- |\n",
        "| none | yes | 0.8 | 0.2 |\n",
        "| none | no | 0.9 | 0.1 |\n",
        "| light | yes | 0.6 | 0.4 |\n",
        "| light | no | 0.7 | 0.3 |\n",
        "| heavy | yes | 0.4 | 0.6 |\n",
        "| heavy | no | 0.5 | 0.5 |\n",
        "\n",
        "</div>\n",
        "\n",
        "*  Appointment: 약속 참석 여부를 나타내는 무작위 변수로, { attend, miss } 값을 사용\n",
        "  *  유일한 부모는 Train.\n",
        "\n",
        "<div align=\"center\">\n",
        "\n",
        "| Train | attend | miss |\n",
        "| -- | -- | -- |\n",
        "| on time | 0.9 | 0.1 |\n",
        "| delayed | 0.6 | 0.4 |\n",
        "\n",
        "</div>\n",
        "\n",
        "*  베이지안 네트워크의 부모 영향:  \n",
        "  *  부모에는 직접적인 관계만 포함됨. Maintenance은 Train이 on time인지에 대한 영향을 미치고, on time인 Train은 Appointment에 영향을 미침. 그러나 Appointment 확률에 직접적인 영향을 미치는 것은 Train의 확률이며, 이것이 베이지안 네트워크에 표현됨.\n",
        "  *  예) Train이 on time이라면 Rain이 heavy이고 Maintenance가 yes일 수 있지만, Appointment가 attend일지 miss일지에 대한 영향은 없음.\n",
        "\n",
        "예시) $P( light , no, delayed, miss )$\n",
        "*  유지 보수가 없고 약간의 비가 내리는 날 기차가 연착되었을 때 회의를 놓칠 확률\n",
        "  *  다음을 계산: $P(light)P(no | light)P(delayed | light, no)P(miss | delayed)$\n",
        "  *  각 개별 확률의 값은 위의 확률 분포에서 찾을 수 있음"
      ],
      "metadata": {
        "id": "da20wchc8BR9"
      }
    },
    {
      "cell_type": "markdown",
      "source": [
        "## Bayesian Network Inference\n"
      ],
      "metadata": {
        "id": "0AGZPoAZSdYF"
      }
    },
    {
      "cell_type": "markdown",
      "source": [
        "베이지안 네트워크 inference의 속성\n",
        "\n",
        "*   Query $X$ : 확률 분포를 계산하려는 변수\n",
        "*   Evidence $E$ : Event $e$ 에 대해 관찰된 하나 이상의 변수\n",
        "  *   light rain임을 관찰했을 때, 이는 Train변수의 on time/delayed 확률 계산에 도움이 됨\n",
        "*   Hidden variables $Y$ : 쿼리가 아니며 관찰되지 않은 변수\n",
        "  *   light rain임을 관찰했을 때, maintenance이 실행중인지는 알 수 없음. 따라서 이 상황에서는 maintenance이 hidden variable\n",
        "*   The goal: $P ( X | e )$을 계산\n",
        "  *   light rain이라는 evidence $e$ 을 바탕으로 Train 변수(query)의 확률 분포를 계산\n",
        "\n"
      ],
      "metadata": {
        "id": "xTq85NWwSkt9"
      }
    },
    {
      "cell_type": "markdown",
      "source": [
        "베이지안 네트워크를 [pomegranate](https://pomegranate.readthedocs.io/en/latest/) 라이브러리를 통해 구현:"
      ],
      "metadata": {
        "id": "ldDuUVxZYDnx"
      }
    },
    {
      "cell_type": "code",
      "execution_count": null,
      "metadata": {
        "id": "ZGPb6Ai94LD8"
      },
      "outputs": [],
      "source": [
        "# Rain node has no parents\n",
        "rain = Node(DiscreteDistribution({\n",
        "    \"none\": 0.7,\n",
        "    \"light\": 0.2,\n",
        "    \"heavy\": 0.1\n",
        "}), name=\"rain\")\n",
        "rain.distribution.name = 'rain'\n",
        "\n",
        "# Track maintenance node is conditional on rain\n",
        "maintenance = Node(ConditionalProbabilityTable([\n",
        "    [\"none\", \"yes\", 0.4],\n",
        "    [\"none\", \"no\", 0.6],\n",
        "    [\"light\", \"yes\", 0.2],\n",
        "    [\"light\", \"no\", 0.8],\n",
        "    [\"heavy\", \"yes\", 0.1],\n",
        "    [\"heavy\", \"no\", 0.9]\n",
        "], [rain.distribution]), name=\"maintenance\")\n",
        "\n",
        "# Train node is conditional on rain and maintenance\n",
        "train = Node(ConditionalProbabilityTable([\n",
        "    [\"none\", \"yes\", \"on time\", 0.8],\n",
        "    [\"none\", \"yes\", \"delayed\", 0.2],\n",
        "    [\"none\", \"no\", \"on time\", 0.9],\n",
        "    [\"none\", \"no\", \"delayed\", 0.1],\n",
        "    [\"light\", \"yes\", \"on time\", 0.6],\n",
        "    [\"light\", \"yes\", \"delayed\", 0.4],\n",
        "    [\"light\", \"no\", \"on time\", 0.7],\n",
        "    [\"light\", \"no\", \"delayed\", 0.3],\n",
        "    [\"heavy\", \"yes\", \"on time\", 0.4],\n",
        "    [\"heavy\", \"yes\", \"delayed\", 0.6],\n",
        "    [\"heavy\", \"no\", \"on time\", 0.5],\n",
        "    [\"heavy\", \"no\", \"delayed\", 0.5],\n",
        "], [rain.distribution, maintenance.distribution]), name=\"train\")\n",
        "\n",
        "# Appointment node is conditional on train\n",
        "appointment = Node(ConditionalProbabilityTable([\n",
        "    [\"on time\", \"attend\", 0.9],\n",
        "    [\"on time\", \"miss\", 0.1],\n",
        "    [\"delayed\", \"attend\", 0.6],\n",
        "    [\"delayed\", \"miss\", 0.4]\n",
        "], [train.distribution]), name=\"appointment\")"
      ]
    },
    {
      "cell_type": "code",
      "source": [
        "# Create a Bayesian Network and add states\n",
        "model = BayesianNetwork()\n",
        "model.add_states(rain, maintenance, train, appointment)\n",
        "\n",
        "# Add edges connecting nodes\n",
        "model.add_edge(rain, maintenance)\n",
        "model.add_edge(rain,train)\n",
        "model.add_edge(maintenance, train)\n",
        "model.add_edge(train, appointment)\n",
        "\n",
        "# Finalize model\n",
        "model.bake()"
      ],
      "metadata": {
        "id": "x9UtEoIq4z_p"
      },
      "execution_count": null,
      "outputs": []
    },
    {
      "cell_type": "markdown",
      "source": [
        "예제) 비가 내리지 않고, 선로 유지 관리가 없고, 기차가 정시에 운행하고, 회의에 참석할 확률"
      ],
      "metadata": {
        "id": "djt9qM1O42Im"
      }
    },
    {
      "cell_type": "code",
      "source": [
        "# Calculate joint probability for a given observation\n",
        "model.probability([['none', 'no', 'on time', 'attend']])"
      ],
      "metadata": {
        "id": "vF1ImrtR43uH",
        "colab": {
          "base_uri": "https://localhost:8080/"
        },
        "outputId": "4ea0a939-5859-44a5-e822-d3b6b204e05c"
      },
      "execution_count": null,
      "outputs": [
        {
          "output_type": "execute_result",
          "data": {
            "text/plain": [
              "0.34019999999999995"
            ]
          },
          "metadata": {},
          "execution_count": 28
        }
      ]
    },
    {
      "cell_type": "markdown",
      "source": [
        "예제) $Train = delayed$ 일 때, $Rain$, $Maintenance$, $Appointment$의 확률 분포"
      ],
      "metadata": {
        "id": "VdvXJXSL45L9"
      }
    },
    {
      "cell_type": "code",
      "source": [
        "# Calculate predictions based on the evidence that the train was delayed\n",
        "# 주어진 evidence을 바탕으로 그래프 내 각 변수의 marginal probability distribution 계산\n",
        "predictions = model.predict_proba({\n",
        "    'train':'delayed'\n",
        "})"
      ],
      "metadata": {
        "id": "rDfyFRXu47SH"
      },
      "execution_count": null,
      "outputs": []
    },
    {
      "cell_type": "code",
      "source": [
        "# Print predictions for each node\n",
        "for node, prediction in zip(model.states, predictions):\n",
        "    if isinstance(prediction, str):\n",
        "        print(f\"{node.name}: {prediction}\")\n",
        "    else:\n",
        "        print(f\"{node.name}\")\n",
        "        for value, probability in prediction.parameters[0].items():\n",
        "            print(f\"    {value}: {probability:.4f}\")"
      ],
      "metadata": {
        "id": "2ocjzRCk-3qE",
        "colab": {
          "base_uri": "https://localhost:8080/"
        },
        "outputId": "3622a94d-8de5-447f-ff58-0529658a8c32"
      },
      "execution_count": null,
      "outputs": [
        {
          "output_type": "stream",
          "name": "stdout",
          "text": [
            "rain\n",
            "    none: 0.4583\n",
            "    light: 0.3069\n",
            "    heavy: 0.2348\n",
            "maintenance\n",
            "    no: 0.6432\n",
            "    yes: 0.3568\n",
            "train: delayed\n",
            "appointment\n",
            "    miss: 0.4000\n",
            "    attend: 0.6000\n"
          ]
        }
      ]
    },
    {
      "cell_type": "markdown",
      "source": [
        "*   inference by enumeration은 모델에 많은 변수들이 있는 경우에 비효율적\n",
        "*   이와 같은 방식을 사용하는 exact inference 대신 sampling와 같은 approximate inference은 계산된 확률의 정밀도는 떨어지나 이는 무시할 수 있는 수준이며, 확장 가능한 확률 계산 방법"
      ],
      "metadata": {
        "id": "LqzeWYsD46xz"
      }
    },
    {
      "cell_type": "markdown",
      "source": [
        "# Sampling"
      ],
      "metadata": {
        "id": "V9l5Q2oX_xOJ"
      }
    },
    {
      "cell_type": "markdown",
      "source": [
        "## Prior / Forward Sampling"
      ],
      "metadata": {
        "id": "vEmBDeLADWRd"
      }
    },
    {
      "cell_type": "markdown",
      "source": [
        "*   Approximate inference 중 하나의 접근 방법이며, 각 변수가 확률 분포에 따른 값으로 샘플링됨.\n",
        "\n",
        "  > 주사위를 사용한 샘플링을 사용하여 분포를 생성하려면 주사위를 여러 번 굴리고 매번 얻은 값을 기록할 수 있다. 주사위를 600번 굴렸다고 가정해 보았을 때. 1이 나온 횟수를 세고 나머지 값인 2~6에 대해 반복한다. 그런 다음 각 개수를 주사위를 굴린 총 횟수로 나눈다. 이는 주사위를 굴리는 값의 대략적인 분포를 생성한다. 각 값이 1/6의 발생 확률(정확한 확률)을 갖는 결과를 얻을 가능성은 없지만 그것에 가까운 값을 얻을 수 있다."
      ],
      "metadata": {
        "id": "tTsA0nV1DXRl"
      }
    },
    {
      "cell_type": "markdown",
      "source": [
        "*   베이지안 네트워크에서 topological order으로 샘플링\n",
        "    *   네트워크의 루트 노드에서 시작하여 $P(X_i | parent(X_i))$에 따라 샘플링\n",
        "    *   값이 샘플링되는 확률 분포는 변수의 부모에게 이미 할당된 값에 따라 condition이 지정됨\n",
        "    \n",
        "*  순서: $Rain → Maintenance → Train → Appointment$\n",
        "\n",
        "  * Prior sample 생성 예시:\n",
        "    *   $P(Rain) = <0.7, 0.2, 0.1>$에서 샘플. $light$이 샘플됨\n",
        "    *   $P(Maintenance|Rain=light) = <0.2, 0.8>$에서 샘플. $no$가 샘플됨.\n",
        "    *  $P(Train|Maintenance=no,Rain=light) = <0.7, 0.3>$에서 샘플. $on \\ time$이 샘플됨.\n",
        "    *  $P(Appointment|Train=on \\ time) = <0.9, 0.1>$에서 샘플. $attend$가 샘플됨\n",
        "  * 샘플된 이벤트: $[light, no, on \\ time, attend]$"
      ],
      "metadata": {
        "id": "zVJNb7sIwMlZ"
      }
    },
    {
      "cell_type": "code",
      "source": [
        "def generate_sample():\n",
        "\n",
        "    # Mapping of random variable name to sample generated\n",
        "    sample = {}\n",
        "\n",
        "    # Mapping of distribution to sample generated\n",
        "    parents = {}\n",
        "\n",
        "    # Loop over all states, assuming topological order\n",
        "    for state in model.states:\n",
        "\n",
        "        # If we have a non-root node, sample conditional on parents\n",
        "        if isinstance(state.distribution, ConditionalProbabilityTable):\n",
        "            sample[state.name] = state.distribution.sample(parent_values=parents)\n",
        "\n",
        "        # Otherwise, just sample from the distribution alone\n",
        "        else:\n",
        "            sample[state.name] = state.distribution.sample()\n",
        "\n",
        "        # Keep track of the sampled value in the parents mapping\n",
        "        parents[state.distribution] = sample[state.name]\n",
        "\n",
        "    # Return generated sample\n",
        "    return sample"
      ],
      "metadata": {
        "id": "cmoAQipYDaOE"
      },
      "execution_count": null,
      "outputs": []
    },
    {
      "cell_type": "code",
      "source": [
        "generate_sample()"
      ],
      "metadata": {
        "id": "k8HcqkNH8cq3",
        "colab": {
          "base_uri": "https://localhost:8080/"
        },
        "outputId": "522b4d23-62f9-4c87-a6bb-105c48aae756"
      },
      "execution_count": null,
      "outputs": [
        {
          "output_type": "execute_result",
          "data": {
            "text/plain": [
              "{'rain': 'none',\n",
              " 'maintenance': 'yes',\n",
              " 'train': 'on time',\n",
              " 'appointment': 'attend'}"
            ]
          },
          "metadata": {},
          "execution_count": 32
        }
      ]
    },
    {
      "cell_type": "markdown",
      "source": [
        "예제) 10000개의 샘플로부터 $P(Train=on \\ time)$ 계산"
      ],
      "metadata": {
        "id": "5bzAZGBxnzMD"
      }
    },
    {
      "cell_type": "code",
      "source": [
        "# prior sample\n",
        "N = 10000\n",
        "all_observations = [generate_sample() for x in range(N)]"
      ],
      "metadata": {
        "id": "7lqxwnnQSv9d"
      },
      "execution_count": null,
      "outputs": []
    },
    {
      "cell_type": "code",
      "source": [
        "train_on_time = [observation for observation in all_observations if observation['train']=='on time']"
      ],
      "metadata": {
        "id": "T_Ky_fsaT03V"
      },
      "execution_count": null,
      "outputs": []
    },
    {
      "cell_type": "code",
      "source": [
        "# P( train = on time )\n",
        "len(train_on_time) / N"
      ],
      "metadata": {
        "id": "sFCmXpseUKqA",
        "colab": {
          "base_uri": "https://localhost:8080/"
        },
        "outputId": "25104869-c212-4247-9a4d-ff6bfc22f909"
      },
      "execution_count": null,
      "outputs": [
        {
          "output_type": "execute_result",
          "data": {
            "text/plain": [
              "0.7895"
            ]
          },
          "metadata": {},
          "execution_count": 35
        }
      ]
    },
    {
      "cell_type": "markdown",
      "source": [
        "예제) $P( Rain = light | Train = on \\ time )$"
      ],
      "metadata": {
        "id": "QMFjLB7roQbL"
      }
    },
    {
      "cell_type": "code",
      "source": [
        "rain_and_train = [observation for observation in train_on_time if observation['rain']=='light']"
      ],
      "metadata": {
        "id": "23Ws8IkJUcR7"
      },
      "execution_count": null,
      "outputs": []
    },
    {
      "cell_type": "code",
      "source": [
        "answer = len(rain_and_train) / len(train_on_time)\n",
        "print(answer)"
      ],
      "metadata": {
        "id": "BRDbpQ7SVajC",
        "colab": {
          "base_uri": "https://localhost:8080/"
        },
        "outputId": "0bdeeca5-a446-453a-f1a8-24c6ed5b670d"
      },
      "execution_count": null,
      "outputs": [
        {
          "output_type": "stream",
          "name": "stdout",
          "text": [
            "0.17036098796706775\n"
          ]
        }
      ]
    },
    {
      "cell_type": "markdown",
      "source": [
        "## Rejection Sampling\n",
        "\n",
        "*  Rejection Sampling: 네트워크에서 표현된 prior distribution에서 샘플을 생성하고 evidence와 일치하지 않는 모든 샘플들을 reject함.\n",
        "  *  쿼리를 미리 알고 있을 때 유용하며, prior sampling은 일반적으로 모든 쿼리에 대해 작동하지만 일부 상황에서는 실패할 수 있음.\n",
        "* 베이지안 네트워크와 evidence $e$가 있는 상황에서, evidence $e$가 $True$일 때 변수 A가 $True$일 확률(몇 번 참인지)을 알고 싶은 상황\n",
        "  *  Prior sampling으로 계산할 수 있으나, 실제 확률 분포에서 evidence $e$가 $True$일 확률은 매우 작다고 가정\n",
        "  *  이러한 상황에서 샘플링은 e가 $True$인 데이터 점을 샘플링하지 못할 수 있으며, 샘플된 데이터에 $e$가 $True$인 경우가 없으면 $P(e) = 0$이므로 $P(A | e) / P(e) = 0/0$이 되어 계산을 할 수 없게 됨.\n",
        "\n",
        "*  샘플하는 횟수를 늘릴 수는 있지만, $e$가 $0$이 아닌 경우가 존재한다는 것을 보장할 수는 없음. 이를 보장하기 위해서는 각 변수의 확률을 나타내는 데이터 points을 고려해야 하는데, 이는 approximate inference가 제공하는 속도 이점을 상실하고 베이지안 네트워크의 정확한 추론 모델을 계산해야 한다는 것을 의미함.\n",
        "\n",
        "*  네트워크에서 샘플링하는 동안 주어진 쿼리의 evidence 변수와 일치하지 않는 샘플은 reject (evidence 변수에 해당하는 샘플만 고려)"
      ],
      "metadata": {
        "id": "smJ1eYrvUbz6"
      }
    },
    {
      "cell_type": "markdown",
      "source": [
        "예제) $P( Appointment | Train = delayed ) $"
      ],
      "metadata": {
        "id": "v2kVrdw5pW6D"
      }
    },
    {
      "cell_type": "code",
      "source": [
        "# Rejection sampling\n",
        "N = 10000\n",
        "data = []\n",
        "\n",
        "for i in range(N):\n",
        "  sample = generate_sample()\n",
        "  if sample[\"train\"] == \"delayed\": # only append for evidence we want\n",
        "    data.append(sample[\"appointment\"])\n",
        "\n",
        "print(Counter(data))"
      ],
      "metadata": {
        "id": "_7GfaOLVDezG",
        "colab": {
          "base_uri": "https://localhost:8080/"
        },
        "outputId": "5a886033-a80d-44a9-e46f-d2269a29639c"
      },
      "execution_count": null,
      "outputs": [
        {
          "output_type": "stream",
          "name": "stdout",
          "text": [
            "Counter({'attend': 1274, 'miss': 867})\n"
          ]
        }
      ]
    },
    {
      "cell_type": "code",
      "source": [
        "# normalize\n",
        "x = Counter(data)\n",
        "total = sum(x.values(), 0.0)\n",
        "for key in x:\n",
        "  x[key] /= total\n",
        "\n",
        "print(x)"
      ],
      "metadata": {
        "id": "eOjvrHK3-EQh",
        "colab": {
          "base_uri": "https://localhost:8080/"
        },
        "outputId": "b6003025-aa81-4bdd-cb0f-4c8988e47046"
      },
      "execution_count": null,
      "outputs": [
        {
          "output_type": "stream",
          "name": "stdout",
          "text": [
            "Counter({'attend': 0.595049042503503, 'miss': 0.40495095749649695})\n"
          ]
        }
      ]
    },
    {
      "cell_type": "markdown",
      "source": [
        "## Likelihood Weighting\n",
        "\n",
        "*  Rejection sampling의 한계: Limitations of Resection sampling:\n",
        "  *  주어진 evidence와 일관된 샘플들을 찾을 확률이 낮을 때 rejection sampling을 실행하는 데 오랜 시간이 걸림 Rejection sampling takes a long time to run when the probability of finding samples consistent with the given evidence is low\n",
        "  *  베이지안 네트워크가 크거나 evidence 변수들의 수가 많을 때도 오랜 시간이 걸림.  It takes a long time even when the Bayesian network is large or the number of evidence variables is large.\n",
        "  *  rejection sampling은 evidence가 많은 변수로 구성된 경우 많은 표본을 reject하는 경향이 있음. Rejection sampling tends to reject many samples when evidence consists of many variables.\n",
        "  \n",
        "*  Likelihood weighting는 evidence을 고정하고 (evidence에 해당하는 표본을 추출하지 않음) 가중치를 사용하여 전체 표본이 여전히 일관성을 유지하도록 함으로써 rejection sampling의 한계를 극복함. Likelihood weighting overcomes the limitations of resection sampling by fixing the evidence (no sample corresponding to the evidence) and using weights to ensure that the entire sample is still consistent."
      ],
      "metadata": {
        "id": "QE2nYCD1udHq"
      }
    },
    {
      "cell_type": "markdown",
      "source": [
        "순서: $Rain → Maintenance → Train → Appointment$\n",
        "\n",
        "*  예제) $P( Train | Rain=light, Maintenance=yes )$에 대한 likelihood sampling 예시\n",
        "  *  weight $w$을 1.0으로 설정\n",
        "  *  $Rain$은 $light$의 값을 가진 evidence 변수임. 따라서 샘플링 하지 않고 weight 업데이트\n",
        "    *  $w \\leftarrow w \\times P(Rain=light) = 0.2$\n",
        "  *  $Maintenance$ 또한 $yes$ 값을 가진 evidence 변수임. 샘플링 하지 않고 weight 업데이트\n",
        "    *  $w \\leftarrow w \\times P(Maintenance=yes|Rain=light) = 0.2 \\times 0.2 = 0.04$\n",
        "  *  $Train$은 evidence 변수가 아님. $P(Train|Rain=light, Maintenance=yes)=<0.6\t, 0.4>$에서 샘플링. $on \\ time$이 샘플됨.\n",
        "  *  $Appointment$은 evidence 변수가 아님. $P(Appointment|Train=on \\ time)=<0.9, \t0.1>$에서 샘플링. $attend$가 샘플됨.\n",
        "*  생성된 event와 weight: $[light, yes, on\\ time, attend], 0.04$이며, $Train=on \\ time$에 해당하는 샘플이 가중치 0.04로 샘플됨을 의미함."
      ],
      "metadata": {
        "id": "xcObCSSQvBc9"
      }
    },
    {
      "cell_type": "code",
      "source": [
        "parents_model = {'maintenance':['rain'], 'train':['rain', 'maintenance'], 'appointment':['train']}\n",
        "\n",
        "def generate_weighted_sample(evidence):\n",
        "    # Mapping of random variable name to sample generated\n",
        "    sample = {}\n",
        "    weight = 1.0\n",
        "\n",
        "    # Mapping of distribution to sample generated\n",
        "    parents = {}\n",
        "\n",
        "    # Loop over all states, assuming topological order\n",
        "    for state in model.states:\n",
        "        # If the state is in the evidence, use the observed value\n",
        "        if state.name in evidence:\n",
        "            sample[state.name] = evidence[state.name]\n",
        "\n",
        "            # Update the weight based on the probability of the observed value\n",
        "            if isinstance(state.distribution, ConditionalProbabilityTable):\n",
        "                prob = state.distribution.probability([sample[parent] for parent in parents_model[state.name]] + [evidence[state.name]])\n",
        "            else:\n",
        "                prob = state.distribution.probability(evidence[state.name])\n",
        "            weight *= prob\n",
        "\n",
        "        # Otherwise, sample the value\n",
        "        else:\n",
        "            if isinstance(state.distribution, ConditionalProbabilityTable): # not root node\n",
        "                sample[state.name] = state.distribution.sample(parent_values=parents)\n",
        "            else: # root node\n",
        "                sample[state.name] = state.distribution.sample()\n",
        "\n",
        "        # Keep track of the sampled value in the parents mapping\n",
        "        parents[state.distribution] = sample[state.name]\n",
        "\n",
        "    # Return generated sample and its weight\n",
        "    return sample, weight"
      ],
      "metadata": {
        "id": "oCOz6KTiO7Pb"
      },
      "execution_count": null,
      "outputs": []
    },
    {
      "cell_type": "markdown",
      "source": [
        "예제) 쿼리 $P( Train | rain=light, maintenance=yes )$에 대한 weighted sample 생성"
      ],
      "metadata": {
        "id": "yggYLp2uIfKB"
      }
    },
    {
      "cell_type": "code",
      "source": [
        "evidence = {'rain':'light', 'maintenance':'yes'}\n",
        "generate_weighted_sample(evidence)"
      ],
      "metadata": {
        "id": "STTL7Ycz3S-I",
        "colab": {
          "base_uri": "https://localhost:8080/"
        },
        "outputId": "f62f72f7-168d-40c1-9119-8ce091c745e0"
      },
      "execution_count": null,
      "outputs": [
        {
          "output_type": "execute_result",
          "data": {
            "text/plain": [
              "({'rain': 'light',\n",
              "  'maintenance': 'yes',\n",
              "  'train': 'on time',\n",
              "  'appointment': 'attend'},\n",
              " 0.04000000000000001)"
            ]
          },
          "metadata": {},
          "execution_count": 41
        }
      ]
    },
    {
      "cell_type": "markdown",
      "source": [
        "예제) 쿼리 $P( Appointment | Train = delayed )$을 likelihood weighting으로 계산"
      ],
      "metadata": {
        "id": "LpqB4FWc8nCy"
      }
    },
    {
      "cell_type": "code",
      "source": [
        "N = 10000\n",
        "weighted = {'attend':0, 'miss':0}\n",
        "evidence = {'train':'delayed'}\n",
        "\n",
        "for i in range(N):\n",
        "  sample, weight = generate_weighted_sample(evidence)\n",
        "  if sample['train'] == 'delayed':\n",
        "    weighted[sample['appointment']] += weight\n",
        "\n",
        "print(weighted)"
      ],
      "metadata": {
        "id": "xfCjBKWQ8oGx",
        "colab": {
          "base_uri": "https://localhost:8080/"
        },
        "outputId": "c00a31fc-9ff2-459a-e0fb-980cffff36f8"
      },
      "execution_count": null,
      "outputs": [
        {
          "output_type": "stream",
          "name": "stdout",
          "text": [
            "{'attend': 1275.2999999999956, 'miss': 873.2000000000264}\n"
          ]
        }
      ]
    },
    {
      "cell_type": "code",
      "source": [
        "# normalize\n",
        "x = weighted\n",
        "total = sum(x.values(), 0.0)\n",
        "for key in x:\n",
        "  x[key] /= total\n",
        "print(x)"
      ],
      "metadata": {
        "id": "rOQDx8PJ4pgX",
        "colab": {
          "base_uri": "https://localhost:8080/"
        },
        "outputId": "6bc42e46-7f1c-41ea-d80f-3f5f503d1f7e"
      },
      "execution_count": null,
      "outputs": [
        {
          "output_type": "stream",
          "name": "stdout",
          "text": [
            "{'attend': 0.5935769141261265, 'miss': 0.40642308587387366}\n"
          ]
        }
      ]
    },
    {
      "cell_type": "markdown",
      "source": [
        "# Markov chain"
      ],
      "metadata": {
        "id": "LqKsbM105LyW"
      }
    },
    {
      "cell_type": "markdown",
      "source": [
        "*  Markov chain: 각 변수의 분포가 Markov 가정을 따르는 일련의 무작위 변수이며, 체인의 각 이벤트는 이전 이벤트의 확률에 따라 발생함.\n",
        "*  전환 모델(transition model): 현재 이벤트의 가능한 값을 기반으로 다음 이벤트의 확률 분포를 지정, Markov chain 구성을 위해 필요함."
      ],
      "metadata": {
        "id": "PhkhMQe27Etk"
      }
    },
    {
      "cell_type": "markdown",
      "source": [
        "<img src=\"https://cs50.harvard.edu/ai/2024/notes/2/transitionmodel.png\" width=\"600\"/>"
      ],
      "metadata": {
        "id": "oFV3mi3_5VSt"
      }
    },
    {
      "cell_type": "markdown",
      "source": [
        "*  날씨 예시:\n",
        "  *  오늘 맑을 때 내일 맑을 확률: 0.8\n",
        "  *  오늘 맑을 때 내일 배가 올 확률: 0.2\n",
        "  *  오늘 비가 온다면 내일 비가 올 확률: 0.7\n",
        "  *  오늘 비가 온다면 내일 맑을 확률: 0.3\n",
        "\n",
        "*  Transition model을 사용하여 Markov chain을 샘플링\n",
        "  *  비가 오거나 맑은 날로 시작한 다음, 오늘 날씨를 고려하여 맑거나 비가 올 확률을 기준으로 다음 날을 샘플링\n",
        "  *  내일을 기준으로 내일 모레의 확률을 조건으로 지정하여 마르코프 체인을 생성"
      ],
      "metadata": {
        "id": "Zn_TcWQm5QJW"
      }
    },
    {
      "cell_type": "markdown",
      "source": [
        "<img src=\"https://cs50.harvard.edu/ai/2024/notes/2/markovchain.png\" width=\"600\"/>"
      ],
      "metadata": {
        "id": "NA747ZIV7Mmk"
      }
    },
    {
      "cell_type": "code",
      "source": [
        "# Define starting probabilities\n",
        "start = DiscreteDistribution({\n",
        "    \"sun\": 0.5,\n",
        "    \"rain\": 0.5\n",
        "})\n",
        "\n",
        "# Define transition model\n",
        "transitions = ConditionalProbabilityTable([\n",
        "    [\"sun\", \"sun\", 0.8],\n",
        "    [\"sun\", \"rain\", 0.2],\n",
        "    [\"rain\", \"sun\", 0.3],\n",
        "    [\"rain\", \"rain\", 0.7]\n",
        "], [start])"
      ],
      "metadata": {
        "id": "YI74pAUn4-ND"
      },
      "execution_count": null,
      "outputs": []
    },
    {
      "cell_type": "code",
      "source": [
        "# Create Markov chain\n",
        "markov_model = MarkovChain([start, transitions])\n",
        "# Sample 50 states from chain\n",
        "print(markov_model.sample(50))"
      ],
      "metadata": {
        "id": "Kt7GkjmY_Qkq",
        "colab": {
          "base_uri": "https://localhost:8080/"
        },
        "outputId": "1341c35e-4a32-4c1e-b9a3-640c497b6586"
      },
      "execution_count": null,
      "outputs": [
        {
          "output_type": "stream",
          "name": "stdout",
          "text": [
            "['rain', 'rain', 'rain', 'rain', 'rain', 'rain', 'rain', 'sun', 'sun', 'sun', 'sun', 'sun', 'rain', 'rain', 'sun', 'sun', 'sun', 'rain', 'rain', 'sun', 'sun', 'sun', 'sun', 'sun', 'sun', 'rain', 'rain', 'rain', 'sun', 'rain', 'rain', 'sun', 'sun', 'sun', 'sun', 'sun', 'sun', 'sun', 'sun', 'sun', 'sun', 'sun', 'sun', 'sun', 'sun', 'sun', 'sun', 'sun', 'sun', 'rain']\n"
          ]
        }
      ]
    },
    {
      "cell_type": "markdown",
      "source": [
        "## Hidden Markov Models"
      ],
      "metadata": {
        "id": "wXCAMigx540J"
      }
    },
    {
      "cell_type": "markdown",
      "source": [
        "\n",
        "*  Hidden markov model: 관찰된 이벤트를 생성하는 hidden state을 갖는 시스템에 대한 Markov model의 한 유형\n",
        "  *  세계에 대한 일부 관찰을 갖고 있지만 세계의 정확한 상태에 접근할 수 없다는 것을 표현\n",
        "  *  이러한 경우 세계의 상태를 hidden state 라고 하며 액세스할 수 있는 모든 데이터는 observations이라고 함.\n",
        "  *  Sensor model: hidden state와 observation의 확률을 나타냄"
      ],
      "metadata": {
        "id": "ZWWKc0fl7gxT"
      }
    },
    {
      "cell_type": "markdown",
      "source": [
        "<img src=\"https://cs50.harvard.edu/ai/2024/notes/2/sensormodel.png\" width=\"600\"/>"
      ],
      "metadata": {
        "id": "u0Z5Os_t6B1z"
      }
    },
    {
      "cell_type": "markdown",
      "source": [
        "*  날씨 예시:\n",
        "  *  날씨가 맑으면 사람들이 건물에 우산을 가져오지 않을 가능성이 높음\n",
        "  *  비가 오면 사람들이 우산을 건물로 가져올 가능성이 높음\n",
        "*  사람들이 우산을 가지고 왔는지 아닌지를 관찰함으로써 바깥 날씨가 어떤지 확률로 예측"
      ],
      "metadata": {
        "id": "WGL_e07I7sWN"
      }
    },
    {
      "cell_type": "markdown",
      "source": [
        "<img src=\"https://cs50.harvard.edu/ai/2024/notes/2/hiddenmarkovchain.png\" width=\"600\"/>"
      ],
      "metadata": {
        "id": "vPap6oPU7nmn"
      }
    },
    {
      "cell_type": "markdown",
      "source": [
        "*  Hidden markov model은 두 개의 레이어가 있는 마르코프 체인으로 표현됨\n",
        "*  위쪽 레이어인 변수 X는 hidden state을 나타내며 아래 레이어인 변수 E는 evidence, 관찰한 내용을 나타냄"
      ],
      "metadata": {
        "id": "hTUaTeq87tRd"
      }
    },
    {
      "cell_type": "code",
      "source": [
        "# Observation model for each state\n",
        "sun = DiscreteDistribution({\n",
        "    \"umbrella\": 0.2,\n",
        "    \"no umbrella\": 0.8\n",
        "})\n",
        "\n",
        "rain = DiscreteDistribution({\n",
        "    \"umbrella\": 0.9,\n",
        "    \"no umbrella\": 0.1\n",
        "})\n",
        "\n",
        "states = [sun, rain]\n",
        "\n",
        "# Transition model\n",
        "transitions = np.array(\n",
        "    [[0.8, 0.2], # Tomorrow's predictions if today = sun\n",
        "     [0.3, 0.7]] # Tomorrow's predictions if today = rain\n",
        ")\n",
        "\n",
        "# Starting probabilities\n",
        "starts = np.array([0.5, 0.5])"
      ],
      "metadata": {
        "id": "sCgyPbmC55An"
      },
      "execution_count": null,
      "outputs": []
    },
    {
      "cell_type": "code",
      "source": [
        "# Create the model\n",
        "hidden_markov_model = HiddenMarkovModel.from_matrix(\n",
        "    transitions, states, starts,\n",
        "    state_names=[\"sun\", \"rain\"]\n",
        ")\n",
        "hidden_markov_model.bake()"
      ],
      "metadata": {
        "id": "bvvhJ6-V_emP"
      },
      "execution_count": null,
      "outputs": []
    },
    {
      "cell_type": "code",
      "source": [
        "# 사람들이 건물에 우산을 가져왔는지 여부에 대한 일련의 관찰을 확인\n",
        "observations = [\n",
        "    \"umbrella\",\n",
        "    \"umbrella\",\n",
        "    \"no umbrella\",\n",
        "    \"umbrella\",\n",
        "    \"umbrella\",\n",
        "    \"umbrella\",\n",
        "    \"umbrella\",\n",
        "    \"no umbrella\",\n",
        "    \"no umbrella\"\n",
        "]\n",
        "\n",
        "# 위 시퀀스를 기반으로 모델을 실행하여 가장 가능성 있는 예측(가장 가능성이 높은 날씨 시퀀스)을 생성\n",
        "predictions = hidden_markov_model.predict(observations)\n",
        "for prediction in predictions:\n",
        "    print(hidden_markov_model.states[prediction].name)"
      ],
      "metadata": {
        "id": "vlH15quH6Hgv",
        "colab": {
          "base_uri": "https://localhost:8080/"
        },
        "outputId": "a0ee7a1f-c4ce-43cd-a9dc-580141736fc4"
      },
      "execution_count": null,
      "outputs": [
        {
          "output_type": "stream",
          "name": "stdout",
          "text": [
            "rain\n",
            "rain\n",
            "sun\n",
            "rain\n",
            "rain\n",
            "rain\n",
            "rain\n",
            "sun\n",
            "sun\n"
          ]
        }
      ]
    },
    {
      "cell_type": "markdown",
      "source": [
        "# 실습 과제"
      ],
      "metadata": {
        "id": "AHDS6jK8_K33"
      }
    },
    {
      "cell_type": "markdown",
      "source": [
        "## 1번\n",
        "\n",
        "**[코드 작성]**\n",
        "\n",
        "실습 내용을 바탕으로 아래 확률이 계산됨을 보이시오.\n",
        "\n",
        "\n",
        "a. $P(\\neg toothache) = 0.8$\n",
        "\n",
        "b. $P(Cavity) = ⟨0.2, 0.8⟩ $\n",
        "\n",
        "c. $P(Toothache|cavity) = ⟨0.6, 0.4⟩$\n",
        "\n",
        "d. $P(cavity|catch) = 0.3647$"
      ],
      "metadata": {
        "id": "TyfzHvJHatwG"
      }
    },
    {
      "cell_type": "code",
      "source": [
        "# a\n",
        "evidence = dict(Toothache=False)\n",
        "variables = ['Cavity', 'Catch']\n",
        "ans = enumerate_joint(variables, evidence, full_joint)\n",
        "ans"
      ],
      "metadata": {
        "id": "s8u-W05QCtNH",
        "colab": {
          "base_uri": "https://localhost:8080/"
        },
        "outputId": "04bceb49-d634-4917-9510-61c80cc2c873"
      },
      "execution_count": null,
      "outputs": [
        {
          "output_type": "execute_result",
          "data": {
            "text/plain": [
              "0.7999999999999999"
            ]
          },
          "metadata": {},
          "execution_count": 49
        }
      ]
    },
    {
      "cell_type": "code",
      "source": [
        "# b\n",
        "evidence1 = dict(Toothache=True)\n",
        "variables = ['Cavity', 'Catch']\n",
        "ans1 = enumerate_joint(variables, evidence1, full_joint)\n",
        "\n",
        "evidence2 = dict(Toothache=False)\n",
        "variables = ['Cavity', 'Catch']\n",
        "ans2 = enumerate_joint(variables, evidence2, full_joint)\n",
        "\n",
        "(ans1,ans2)"
      ],
      "metadata": {
        "colab": {
          "base_uri": "https://localhost:8080/"
        },
        "id": "AZwglFS9BC0E",
        "outputId": "0fecccdf-19be-4ba0-d39a-23940407f2b9"
      },
      "execution_count": null,
      "outputs": [
        {
          "output_type": "execute_result",
          "data": {
            "text/plain": [
              "(0.19999999999999998, 0.7999999999999999)"
            ]
          },
          "metadata": {},
          "execution_count": 50
        }
      ]
    },
    {
      "cell_type": "code",
      "source": [
        "# c\n",
        "query_variable = 'Toothache'\n",
        "evidence = dict(Cavity=True)\n",
        "ans = enumerate_joint_ask(query_variable, evidence, full_joint)\n",
        "(ans[True], ans[False])"
      ],
      "metadata": {
        "colab": {
          "base_uri": "https://localhost:8080/"
        },
        "id": "eTUwqjmCCHCW",
        "outputId": "838b1323-3b7d-43ab-9bc4-765cd1bf0408"
      },
      "execution_count": null,
      "outputs": [
        {
          "output_type": "execute_result",
          "data": {
            "text/plain": [
              "(0.6, 0.39999999999999997)"
            ]
          },
          "metadata": {},
          "execution_count": 51
        }
      ]
    },
    {
      "cell_type": "code",
      "source": [
        "# d\n",
        "query_variable = 'Cavity'\n",
        "evidence = dict(Catch=True)\n",
        "ans = enumerate_joint_ask(query_variable, evidence, full_joint)\n",
        "ans[True]"
      ],
      "metadata": {
        "colab": {
          "base_uri": "https://localhost:8080/"
        },
        "id": "-nNZm2o-CHQ5",
        "outputId": "fe9c8221-b8de-4bda-a0a4-46ba3bc9e142"
      },
      "execution_count": null,
      "outputs": [
        {
          "output_type": "execute_result",
          "data": {
            "text/plain": [
              "0.3647058823529412"
            ]
          },
          "metadata": {},
          "execution_count": 52
        }
      ]
    },
    {
      "cell_type": "markdown",
      "source": [
        "## 2번\n",
        "\n",
        "**[코드 작성]**\n",
        "\n",
        "실습 내용을 바탕으로 아래 두 쿼리의 답을 출력하시오. Output the answers to the two queries below.\n",
        "\n",
        "a. 외계인은 친절할 수도 있고 아닐 수도 있다. 75%의 외계인은 친절하다. 친절한 외계인은 90%의 확률로 낮에 도착하며, 불친절한 외계인은 항상 밤에 도착한다. 만약 외계인이 밤에 도착한다면, 친절할 확률은 얼마인가? Aliens may or may not be kind. 75% of aliens are kind. A kind alien arrives during the day with a 90% chance, and an unkind alien always arrives at night. If an alien arrives at night, what is the probability of being kind?\n",
        "\n",
        "b. 모든 몬스터의 절반은 다락방에 살고, 나머지는 지하실에 산다. 모든 몬스터의 80%는 털이 있으며, 다락방에 사는 모든 몬스터는 털이 있다. 지하실에 사는 몬스터가 털이 있을 확률은 얼마인가? Half of all monsters live in the attic, and the rest live in the basement. 80% of all monsters have fur, and every monster that lives in the attic has fur. What is the probability that a monster that lives in the basement has fur?\n",
        "\n"
      ],
      "metadata": {
        "id": "gXoauYK9aPlH"
      }
    },
    {
      "cell_type": "code",
      "source": [
        "# a\n",
        "full_joint_alien = JointProbDist(['Kind', 'Day'])\n",
        "full_joint_alien[dict(Kind=True, Day=True)] = 0.675\n",
        "full_joint_alien[dict(Kind=True, Day=False)] = 0.075\n",
        "full_joint_alien[dict(Kind=False, Day=False)] = 0.25\n",
        "full_joint_alien[dict(Kind=False, Day=True)] = 0\n",
        "\n",
        "query_variable = 'Kind'\n",
        "evidence = dict(Day=False)\n",
        "ans = enumerate_joint_ask(query_variable, evidence, full_joint_alien)\n",
        "ans[True]"
      ],
      "metadata": {
        "id": "Wihq5p-MSMvt",
        "colab": {
          "base_uri": "https://localhost:8080/"
        },
        "outputId": "3b1be964-1c43-44bd-f694-6753487c40b9"
      },
      "execution_count": null,
      "outputs": [
        {
          "output_type": "execute_result",
          "data": {
            "text/plain": [
              "0.23076923076923075"
            ]
          },
          "metadata": {},
          "execution_count": 53
        }
      ]
    },
    {
      "cell_type": "code",
      "source": [
        "# b\n",
        "full_joint_monster = JointProbDist(['Attic', 'Fur'])\n",
        "full_joint_monster[dict(Attic=True, Fur=True)] = 0.5\n",
        "full_joint_monster[dict(Attic=False, Fur=True)] = 0.3\n",
        "full_joint_monster[dict(Attic=True, Fur=False)] = 0\n",
        "full_joint_monster[dict(Attic=False, Fur=False)] = 0.2\n",
        "\n",
        "query_variable = 'Fur'\n",
        "evidence = dict(Attic=False)\n",
        "ans = enumerate_joint_ask(query_variable, evidence, full_joint_monster)\n",
        "ans[True]"
      ],
      "metadata": {
        "colab": {
          "base_uri": "https://localhost:8080/"
        },
        "id": "VRV402PfQlpc",
        "outputId": "6a2f6a27-ee77-4107-d96c-a10f20da2bf6"
      },
      "execution_count": null,
      "outputs": [
        {
          "output_type": "execute_result",
          "data": {
            "text/plain": [
              "0.6"
            ]
          },
          "metadata": {},
          "execution_count": 54
        }
      ]
    },
    {
      "cell_type": "markdown",
      "source": [
        "## 3번\n",
        "\n",
        "한 환자가 서로 다른 두 질병($A$, $B$)에 의해 발현될 수 있는 증상($S$)을 가질 수 있다고 가정한다. $A$병의 발생에는 유전자 $G$의 변이가 큰 역할을 하는 것으로 알려져 있다. It is assumed that a patient may have symptoms (S) that can be expressed by two different diseases (A and B). It is known that the mutation of gene G plays a large role in the occurrence of disease A.\n",
        "\n",
        "Below is a Bayesian network and conditional probability table representing the situation.\n",
        "\n",
        "아래는 해당 상황을 나타내는 베이지안 네트워크와 조건부 확률 테이블이다."
      ],
      "metadata": {
        "id": "t_sGOxdolNKg"
      }
    },
    {
      "cell_type": "markdown",
      "source": [
        "![Screen Shot 2024-05-20 at 1.11.10 AM.png](data:image/png;base64,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)"
      ],
      "metadata": {
        "id": "3MiD8HqbnxxL"
      }
    },
    {
      "cell_type": "markdown",
      "source": [
        "### 3-1\n",
        "\n",
        "**[코드 작성]**\n",
        "\n",
        "위 베이지안 네트워크를 실습 내용을 바탕으로 **코드로 구현**하시오.\n",
        "\n"
      ],
      "metadata": {
        "id": "3FmndCDzofuq"
      }
    },
    {
      "cell_type": "code",
      "source": [
        "# cond prob table -> bayesian network\n",
        "# G node has no parents\n",
        "G = Node(DiscreteDistribution({\n",
        "    \"+g\": 0.1,\n",
        "    \"-g\": 0.9\n",
        "}), name=\"G\")\n",
        "G.distribution.name = 'G'\n",
        "\n",
        "# A node is conditional on G\n",
        "A = Node(ConditionalProbabilityTable([\n",
        "    [\"+g\", \"+a\", 1.0],\n",
        "    [\"+g\", \"-a\", 0],\n",
        "    [\"-g\", \"+a\", 0.1],\n",
        "    [\"-g\", \"-a\", 0.9]\n",
        "], [G.distribution]), name=\"A\")\n",
        "\n",
        "# B node has no parents\n",
        "B = Node(DiscreteDistribution({\n",
        "    \"+b\": 0.4,\n",
        "    \"-b\": 0.6\n",
        "}), name=\"B\")\n",
        "B.distribution.name = 'B'\n",
        "\n",
        "# S node is conditional on A & B\n",
        "S = Node(ConditionalProbabilityTable([\n",
        "    [\"+a\", \"+b\", \"+s\", 1.0],\n",
        "    [\"+a\", \"+b\", \"-s\", 0],\n",
        "    [\"+a\", \"-b\", \"+s\", 0.9],\n",
        "    [\"+a\", \"-b\", \"-s\", 0.1],\n",
        "    [\"-a\", \"+b\", \"+s\", 0.8],\n",
        "    [\"-a\", \"+b\", \"-s\", 0.2],\n",
        "    [\"-a\", \"-b\", \"+s\", 0.1],\n",
        "    [\"-a\", \"-b\", \"-s\", 0.9]\n",
        "], [A.distribution, B.distribution]), name=\"S\")\n",
        "\n",
        "# Create a Bayesian Network and add states\n",
        "model = BayesianNetwork()\n",
        "model.add_states(G, A, B, S)\n",
        "\n",
        "# Add edges connecting nodes\n",
        "model.add_edge(G, A)\n",
        "model.add_edge(A, S)\n",
        "model.add_edge(B, S)\n",
        "\n",
        "# Finalize model\n",
        "model.bake()"
      ],
      "metadata": {
        "id": "G09uB95emio6"
      },
      "execution_count": null,
      "outputs": []
    },
    {
      "cell_type": "markdown",
      "source": [
        "### 3-2\n",
        "\n",
        "**[코드 작성]**\n",
        "\n",
        "3-1에서 구현한 베이지안 네트워크를 사용하여 아래 확률들을 출력하시오.\n",
        "\n",
        "a. joint probability $P(+g, +a, +b, +s)$\n",
        "\n",
        "b. 환자가 질병 $B$가 이미 있을 때 질병 $A$에 걸렸을 확률 (probability that a patient has disease $A$ given that they have disease $B$)\n",
        "\n",
        "c. 환자가 질병 $A$을 이미 가지고 있을 때 질병 발현 유전자 변이 $G$을 가질 확률 (probability that a patient has the disease-carrying gene variation $G$ given that they have disease $A$)\n",
        "\n",
        "d. 환자가 질병 $B$을 이미 가지고 있을 때 질병 발현 유전자 변이 $G$을 가질 확률 (probability that a patient has the disease-carrying gene variation $G$ given that they have disease $B$)\n",
        "\n",
        "e. 환자가 질병 발현 유전자 변이 $G$을 이미 가지고 있을 때 증상 $S$가 발현될 확률 (probability that a patient has symptom $S$ given that they have disease-carrying gene variation $G$)\n",
        "\n",
        "f. 환자가 증상 $S$가 발현했을 때 질병 발현 유전자 변이 $G$을 가질 확률 (probability that a patient has disease-carrying gene variation $G$ given that they have symptom $S$ )"
      ],
      "metadata": {
        "id": "gXG6Bzc9pdVh"
      }
    },
    {
      "cell_type": "code",
      "source": [
        "# use predict_proba\n",
        "# a\n",
        "model.probability([['+g', '+a', '+b', '+s']])"
      ],
      "metadata": {
        "id": "qov_W4EFydPo",
        "colab": {
          "base_uri": "https://localhost:8080/"
        },
        "outputId": "3a220a6e-4117-419f-f565-c417df21698b"
      },
      "execution_count": null,
      "outputs": [
        {
          "output_type": "execute_result",
          "data": {
            "text/plain": [
              "0.04000000000000001"
            ]
          },
          "metadata": {},
          "execution_count": 56
        }
      ]
    },
    {
      "cell_type": "code",
      "source": [
        "# b\n",
        "predictions = model.predict_proba({\n",
        "    'B':'+b'\n",
        "})\n",
        "\n",
        "for node, prediction in zip(model.states, predictions):\n",
        "    if isinstance(prediction, str):\n",
        "        print(f\"{node.name}: {prediction}\")\n",
        "    else:\n",
        "        print(f\"{node.name}\")\n",
        "        for value, probability in prediction.parameters[0].items():\n",
        "            print(f\"    {value}: {probability:.4f}\")"
      ],
      "metadata": {
        "colab": {
          "base_uri": "https://localhost:8080/"
        },
        "id": "YKmX-1VTXWiW",
        "outputId": "04152e9b-0880-4a40-9fb3-dfeef8834fba"
      },
      "execution_count": null,
      "outputs": [
        {
          "output_type": "stream",
          "name": "stdout",
          "text": [
            "G\n",
            "    +g: 0.1000\n",
            "    -g: 0.9000\n",
            "A\n",
            "    -a: 0.8100\n",
            "    +a: 0.1900\n",
            "B: +b\n",
            "S\n",
            "    -s: 0.1620\n",
            "    +s: 0.8380\n"
          ]
        }
      ]
    },
    {
      "cell_type": "markdown",
      "source": [
        "P(+a|+b) = 0.1900"
      ],
      "metadata": {
        "id": "jOiCtSjkbBV6"
      }
    },
    {
      "cell_type": "code",
      "source": [
        "# c\n",
        "\n",
        "predictions = model.predict_proba({\n",
        "    'A':'+a'\n",
        "})\n",
        "\n",
        "for node, prediction in zip(model.states, predictions):\n",
        "    if isinstance(prediction, str):\n",
        "        print(f\"{node.name}: {prediction}\")\n",
        "    else:\n",
        "        print(f\"{node.name}\")\n",
        "        for value, probability in prediction.parameters[0].items():\n",
        "            print(f\"    {value}: {probability:.4f}\")"
      ],
      "metadata": {
        "id": "eUwcXpXEXtUN",
        "colab": {
          "base_uri": "https://localhost:8080/"
        },
        "outputId": "c9e1bd29-04af-42d9-ab48-e6c41b4fd60c"
      },
      "execution_count": null,
      "outputs": [
        {
          "output_type": "stream",
          "name": "stdout",
          "text": [
            "G\n",
            "    +g: 0.5263\n",
            "    -g: 0.4737\n",
            "A: +a\n",
            "B\n",
            "    +b: 0.4000\n",
            "    -b: 0.6000\n",
            "S\n",
            "    -s: 0.0600\n",
            "    +s: 0.9400\n"
          ]
        }
      ]
    },
    {
      "cell_type": "markdown",
      "source": [
        "P(+g|+a) = 0.5263"
      ],
      "metadata": {
        "id": "WEfCxSmAbMSB"
      }
    },
    {
      "cell_type": "code",
      "source": [
        "# d\n",
        "\n",
        "predictions = model.predict_proba({\n",
        "    'B':'+b'\n",
        "})\n",
        "\n",
        "for node, prediction in zip(model.states, predictions):\n",
        "    if isinstance(prediction, str):\n",
        "        print(f\"{node.name}: {prediction}\")\n",
        "    else:\n",
        "        print(f\"{node.name}\")\n",
        "        for value, probability in prediction.parameters[0].items():\n",
        "            print(f\"    {value}: {probability:.4f}\")"
      ],
      "metadata": {
        "id": "8Pt2mJfgXsy2",
        "colab": {
          "base_uri": "https://localhost:8080/"
        },
        "outputId": "c5928661-b6f2-4f42-d891-5f81aa9e47b1"
      },
      "execution_count": null,
      "outputs": [
        {
          "output_type": "stream",
          "name": "stdout",
          "text": [
            "G\n",
            "    +g: 0.1000\n",
            "    -g: 0.9000\n",
            "A\n",
            "    -a: 0.8100\n",
            "    +a: 0.1900\n",
            "B: +b\n",
            "S\n",
            "    -s: 0.1620\n",
            "    +s: 0.8380\n"
          ]
        }
      ]
    },
    {
      "cell_type": "markdown",
      "source": [
        "P(+g|+b) = 0.1000"
      ],
      "metadata": {
        "id": "5OMwGlnVbTXg"
      }
    },
    {
      "cell_type": "code",
      "source": [
        "# e\n",
        "\n",
        "predictions = model.predict_proba({\n",
        "    'G':'+g'\n",
        "})\n",
        "\n",
        "for node, prediction in zip(model.states, predictions):\n",
        "    if isinstance(prediction, str):\n",
        "        print(f\"{node.name}: {prediction}\")\n",
        "    else:\n",
        "        print(f\"{node.name}\")\n",
        "        for value, probability in prediction.parameters[0].items():\n",
        "            print(f\"    {value}: {probability:.4f}\")"
      ],
      "metadata": {
        "id": "QA3J02G3Xsmw",
        "colab": {
          "base_uri": "https://localhost:8080/"
        },
        "outputId": "65097c29-29cf-4865-e783-6160adc47d6f"
      },
      "execution_count": null,
      "outputs": [
        {
          "output_type": "stream",
          "name": "stdout",
          "text": [
            "G: +g\n",
            "A\n",
            "    -a: 0.0000\n",
            "    +a: 1.0000\n",
            "B\n",
            "    +b: 0.4000\n",
            "    -b: 0.6000\n",
            "S\n",
            "    -s: 0.0600\n",
            "    +s: 0.9400\n"
          ]
        }
      ]
    },
    {
      "cell_type": "markdown",
      "source": [
        "P(+s|+g) = 0.9400\n",
        "\n"
      ],
      "metadata": {
        "id": "fEdzql6ebZ5J"
      }
    },
    {
      "cell_type": "code",
      "source": [
        "# f\n",
        "\n",
        "predictions = model.predict_proba({\n",
        "    'S':'+s'\n",
        "})\n",
        "\n",
        "for node, prediction in zip(model.states, predictions):\n",
        "    if isinstance(prediction, str):\n",
        "        print(f\"{node.name}: {prediction}\")\n",
        "    else:\n",
        "        print(f\"{node.name}\")\n",
        "        for value, probability in prediction.parameters[0].items():\n",
        "            print(f\"    {value}: {probability:.4f}\")"
      ],
      "metadata": {
        "id": "em9etgYSXsUJ",
        "colab": {
          "base_uri": "https://localhost:8080/"
        },
        "outputId": "6a9eff8c-c198-4a58-fd51-f83ca520052f"
      },
      "execution_count": null,
      "outputs": [
        {
          "output_type": "stream",
          "name": "stdout",
          "text": [
            "G\n",
            "    +g: 0.1933\n",
            "    -g: 0.8067\n",
            "A\n",
            "    -a: 0.6328\n",
            "    +a: 0.3672\n",
            "B\n",
            "    +b: 0.6891\n",
            "    -b: 0.3109\n",
            "S: +s\n"
          ]
        }
      ]
    },
    {
      "cell_type": "markdown",
      "source": [
        "P(+g|+s) = 0.1933"
      ],
      "metadata": {
        "id": "3Nd0NdDzbjRR"
      }
    },
    {
      "cell_type": "markdown",
      "source": [
        "## 4번: Extra Credit\n",
        "\n",
        "우주의 외계인을 연구하는 생물학자가 있다. 이 생물학자의 전문 분야는 춤이며 외계인들이 춤을 발명하는 방식에 대한 베이지안 네트워크를 가지고 있다. 네트워크의 변수는 다음과 같다. There is a biologist who studies aliens in space. This biologist's specialty is dance and has a Bayesian network of the ways aliens invented dance. Variables in the network are as follows.\n",
        "\n",
        "*  소리 감지(S): 외계인의 소리 감지 능력 유무\n",
        "*  한랭 기후(C): 외계인의 고유 행성이 한랭한지 여부\n",
        "*  음악(M): 외계인의 음악 발명 여부\n",
        "*  비언어적 의사소통(N): 비언어적 의사소통의 형태가 있는지 여부\n",
        "* Sound detection (S): presence or absence of alien sound detection capabilities\n",
        "* Cold climate (C): whether the alien's endemic planet is cold\n",
        "* Music (M): Whether Alien invented music or not\n",
        "* Nonverbal communication (N): whether there is a form of nonverbal communication\n",
        "\n",
        "아래 베이지안 네트워크는 위의 변수들과 춤(D) 사이의 관계를 표현한다. The Bayesian network below expresses the relationship between the above variables and dance (D)."
      ],
      "metadata": {
        "id": "F4hAm7GSygA0"
      }
    },
    {
      "cell_type": "markdown",
      "source": [
        "![Screen Shot 2024-05-20 at 2.11.19 AM.png](data:image/png;base64,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)"
      ],
      "metadata": {
        "id": "UFmhLywZ1W0-"
      }
    },
    {
      "cell_type": "markdown",
      "source": [
        "### 4-1\n",
        "\n",
        "**[텍스트 작성]**\n",
        "\n",
        "생물학자는 춤을 추고 소리를 감지하는 외계인이 음악을 발명하지 않을 가능성이 얼마나 되는지 알고 싶어 하며, approximate inference을 통해 계산하고자 한다. 아래는 prior sampling으로 생성된 샘플들이다. Biologists want to know how likely it is that aliens who dance and detect sounds will not invent music, and they want to calculate it through approximate information. Below are samples generated by prior sampling.\n"
      ],
      "metadata": {
        "id": "A3DKwdiz2AOy"
      }
    },
    {
      "cell_type": "markdown",
      "source": [
        "![Screen Shot 2024-05-20 at 2.15.26 AM.png](data:image/png;base64,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)"
      ],
      "metadata": {
        "id": "vwpmPQXx2cPN"
      }
    },
    {
      "cell_type": "markdown",
      "source": [
        "해당 샘플에 rejection sampling을 적용했을 때, 쿼리 $P (−m | +d, +s)$에 대한 답은 무엇인가? What is the answer to query $P (-m | +d, +s)$ when we apply the rejection sampling to that sample?"
      ],
      "metadata": {
        "id": "5lhC28Nx2boA"
      }
    },
    {
      "cell_type": "markdown",
      "source": [
        "$P (-m | +d, +s)$ = 1/3"
      ],
      "metadata": {
        "id": "67CnYlf1eNeC"
      }
    },
    {
      "cell_type": "markdown",
      "source": [
        "### 4-2\n",
        "\n",
        "**[텍스트 작성]**\n",
        "\n",
        "Rejection sampling은 대부분 잘 작동하지만 생물학자가 소리 감지 능력이 없는 외계인($P(-s) = 0.1$)에 대한 추론을 진행할 경우 대부분의 샘플들을 reject하기에 상대적으로 정확성이 떨어진다. 따라서 likelihood weighting을 사용하기로 한다. 소리 감지 능력이 없고 춤이 없는 외계인이 음악을 발명할 확률을 계산하고자 한다($P(+m | -s, -d)$). 아래 네 개 샘플들에 대한 weight을 계산하시오. Rejection sampling works mostly well, but when biologists make inference about aliens ($P(-s) = 0.1$) without sound detection capability, they are relatively less accurate to reject most samples. Therefore, we choose to use likelihood weighting. We want to calculate the probability that aliens without sound detection capability and without dance invent music ($P(+m | -s, -d)$. Calculate the weight for the four samples below."
      ],
      "metadata": {
        "id": "SbyRM9sG22Df"
      }
    },
    {
      "cell_type": "markdown",
      "source": [
        "![Screen Shot 2024-05-20 at 2.21.31 AM.png](data:image/png;base64,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)"
      ],
      "metadata": {
        "id": "Pu4HYZIX31DW"
      }
    },
    {
      "cell_type": "markdown",
      "source": [
        "from distribution = 0.1 * 0.1 (2nd line of left table) for first\n",
        "a+b+c+d / a+d\n",
        "\n",
        "For sample 1,\n",
        "P(-s) = 0.1\n",
        "P(-d | +c, +m, -n) = 0.1\n",
        "Total weight = 0.1*0.1 = 0.01\n",
        "\n",
        "For sample 2,\n",
        "P(-s) = 0.1\n",
        "P(-d | +c, -m, -n) = 0.8\n",
        "Total weight = 0.1*0.8 = 0.08\n",
        "\n",
        "For sample 3,\n",
        "P(-s) = 0.1\n",
        "P(-d | -c, -m, +n) = 0.4\n",
        "Total weight = 0.1*0.4 = 0.04\n",
        "\n",
        "For sample 4,\n",
        "P(-s) = 0.1\n",
        "P(-d | +c, +m, +n) = 0.1\n",
        "Total weight = 0.1*0.1 = 0.01"
      ],
      "metadata": {
        "id": "TDjy8fEIeVBq"
      }
    },
    {
      "cell_type": "markdown",
      "source": [
        "### 4-3\n",
        "\n",
        "**[텍스트 작성]**\n",
        "\n",
        "위 샘플들에 대해 likelihood weighting을 사용하여 쿼리 $P(+m | -s, -d)$을 계산하시오."
      ],
      "metadata": {
        "id": "fDv2qkw74ExT"
      }
    },
    {
      "cell_type": "markdown",
      "source": [
        "$P(+m | -s, -d)$ = 0.01*0.01 / (0.01+0.08+0.04+0.01) = 0.000714"
      ],
      "metadata": {
        "id": "jub0OUwEeoEX"
      }
    },
    {
      "cell_type": "markdown",
      "source": [
        "### 4-4\n",
        "\n",
        "**[코드 작성]**\n",
        "\n",
        "위 베이지안 네트워크를 코드로 구현하고, rejection sampling을 사용하여 $P (M | +d, +s)$을 계산하고, likelihood weighting을 사용하여 $P(M | -s, -d)$을 계산하시오. `N=10000`을 사용하고 출력된 결과를 문제 상황에 맞게 해석하시오. Implement the above Bayesian network in code, calculate $P(M | +d, +s)$ using rejection sampling, and calculate $P(M | -s, -d)$ using likelihood weighting. Use 'N=10000' to interpret the output to the problem situation."
      ],
      "metadata": {
        "id": "mJotQchiWJiN"
      }
    },
    {
      "cell_type": "code",
      "source": [
        "# S node has no parents\n",
        "S = Node(DiscreteDistribution({\n",
        "    \"+s\": 0.9,\n",
        "    \"-s\": 0.1\n",
        "}), name=\"S\")\n",
        "G.distribution.name = 'S'\n",
        "\n",
        "# C node has no parents\n",
        "C = Node(DiscreteDistribution({\n",
        "    \"+c\": 0.5,\n",
        "    \"-c\": 0.5\n",
        "}), name=\"C\")\n",
        "G.distribution.name = 'C'\n",
        "\n",
        "# M node is conditional on S\n",
        "M = Node(ConditionalProbabilityTable([\n",
        "    [\"+s\", \"+m\", 0.8],\n",
        "    [\"+s\", \"-m\", 0.2],\n",
        "    [\"-s\", \"+m\", 0.1],\n",
        "    [\"-s\", \"-m\", 0.9]\n",
        "], [S.distribution]), name=\"M\")\n",
        "\n",
        "# N node is conditional on S\n",
        "N = Node(ConditionalProbabilityTable([\n",
        "    [\"+s\", \"+n\", 0.7],\n",
        "    [\"+s\", \"-n\", 0.3],\n",
        "    [\"-s\", \"+n\", 0.9],\n",
        "    [\"-s\", \"-n\", 0.1]\n",
        "], [S.distribution]), name=\"N\")\n",
        "\n",
        "# D node is conditional on C, M, N\n",
        "D = Node(ConditionalProbabilityTable([\n",
        "    [\"+c\", \"+m\", \"+n\", \"+d\", 0.9],\n",
        "    [\"+c\", \"+m\", \"+n\", \"-d\", 0.1],\n",
        "    [\"+c\", \"+m\", \"-n\", \"+d\", 0.8],\n",
        "    [\"+c\", \"+m\", \"-n\", \"-d\", 0.2],\n",
        "    [\"+c\", \"-m\", \"+n\", \"+d\", 0.8],\n",
        "    [\"+c\", \"-m\", \"+n\", \"-d\", 0.2],\n",
        "    [\"+c\", \"-m\", \"-n\", \"+d\", 0.2],\n",
        "    [\"+c\", \"-m\", \"-n\", \"-d\", 0.8],\n",
        "    [\"-c\", \"+m\", \"+n\", \"+d\", 0.8],\n",
        "    [\"-c\", \"+m\", \"+n\", \"-d\", 0.2],\n",
        "    [\"-c\", \"+m\", \"-n\", \"+d\", 0.5],\n",
        "    [\"-c\", \"+m\", \"-n\", \"-d\", 0.5],\n",
        "    [\"-c\", \"-m\", \"+n\", \"+d\", 0.6],\n",
        "    [\"-c\", \"-m\", \"+n\", \"-d\", 0.4],\n",
        "    [\"-c\", \"-m\", \"-n\", \"+d\", 0.1],\n",
        "    [\"-c\", \"-m\", \"-n\", \"-d\", 0.9]\n",
        "], [C.distribution, M.distribution, N.distribution]), name=\"D\")\n",
        "\n",
        "# Create a Bayesian Network and add states\n",
        "model = BayesianNetwork()\n",
        "model.add_states(S, C, M, N, D)\n",
        "\n",
        "# Add edges connecting nodes\n",
        "model.add_edge(S, M)\n",
        "model.add_edge(S, N)\n",
        "model.add_edge(C, D)\n",
        "model.add_edge(M, D)\n",
        "model.add_edge(N, D)\n",
        "\n",
        "# Finalize model\n",
        "model.bake()"
      ],
      "metadata": {
        "id": "GZOYui13WfEF"
      },
      "execution_count": null,
      "outputs": []
    },
    {
      "cell_type": "code",
      "source": [
        "N = 10000\n",
        "data = []\n",
        "\n",
        "# Rejection sampling\n",
        "for i in range(N):\n",
        "  sample = generate_sample()\n",
        "  if sample[\"S\"] == \"-s\" and sample[\"D\"] == \"-d\": # only append for evidence we want\n",
        "    data.append(sample[\"M\"])\n",
        "\n",
        "print(Counter(data))\n",
        "\n",
        "# normalize\n",
        "x = Counter(data)\n",
        "total = sum(x.values(), 0.0)\n",
        "for key in x:\n",
        "  x[key] /= total\n",
        "\n",
        "print(x)"
      ],
      "metadata": {
        "colab": {
          "base_uri": "https://localhost:8080/"
        },
        "id": "g3ll_ul2HA5b",
        "outputId": "6ae3c66e-d09f-474b-a2e6-79cd4b97f306"
      },
      "execution_count": null,
      "outputs": [
        {
          "output_type": "stream",
          "name": "stdout",
          "text": [
            "Counter({'-m': 328, '+m': 22})\n",
            "Counter({'-m': 0.9371428571428572, '+m': 0.06285714285714286})\n"
          ]
        }
      ]
    },
    {
      "cell_type": "code",
      "source": [
        "# Likelihood weighting\n",
        "parents_model = {'M': ['S'], 'N': ['S'], 'D': ['C', 'M', 'S']}\n",
        "weighted = {'+m':0, '-m':0}\n",
        "evidence = {'S':'-s'}\n",
        "\n",
        "for i in range(N):\n",
        "  sample, weight = generate_weighted_sample(evidence)\n",
        "  if sample['S'] == '-s' and sample['D'] == '-d':\n",
        "    weighted[sample['M']] += weight\n",
        "\n",
        "print(weighted)"
      ],
      "metadata": {
        "colab": {
          "base_uri": "https://localhost:8080/"
        },
        "id": "GkpT-J0BMODn",
        "outputId": "540108da-40a2-4407-c7a7-0a5de0dbecd9"
      },
      "execution_count": null,
      "outputs": [
        {
          "output_type": "stream",
          "name": "stdout",
          "text": [
            "{'+m': 99.8999999999986, '-m': 900.1000000001361}\n"
          ]
        }
      ]
    },
    {
      "cell_type": "code",
      "source": [
        "# normalize\n",
        "x = Counter(data)\n",
        "total = sum(x.values(), 0.0)\n",
        "for key in x:\n",
        "  x[key] /= total\n",
        "\n",
        "print(x)"
      ],
      "metadata": {
        "colab": {
          "base_uri": "https://localhost:8080/"
        },
        "id": "Qv5j6oic7Ond",
        "outputId": "b6dd6685-46e1-4e40-9187-6e7c85c4f30b"
      },
      "execution_count": null,
      "outputs": [
        {
          "output_type": "stream",
          "name": "stdout",
          "text": [
            "Counter({'-m': 0.9371428571428572, '+m': 0.06285714285714286})\n"
          ]
        }
      ]
    }
  ]
}